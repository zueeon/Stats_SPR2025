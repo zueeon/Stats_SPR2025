{
  "nbformat": 4,
  "nbformat_minor": 0,
  "metadata": {
    "colab": {
      "provenance": [],
      "include_colab_link": true
    },
    "kernelspec": {
      "name": "python3",
      "display_name": "Python 3"
    },
    "language_info": {
      "name": "python"
    }
  },
  "cells": [
    {
      "cell_type": "markdown",
      "metadata": {
        "id": "view-in-github",
        "colab_type": "text"
      },
      "source": [
        "<a href=\"https://colab.research.google.com/github/zueeon/Stats_SPR2025/blob/main/2_dataframe.ipynb\" target=\"_parent\"><img src=\"https://colab.research.google.com/assets/colab-badge.svg\" alt=\"Open In Colab\"/></a>"
      ]
    },
    {
      "cell_type": "markdown",
      "source": [
        "👀 🐾 <font color = 'red'> **Data frame** </font>\n",
        "\n",
        "|Index Name/label | column 0| column 1 | column 2 | ...| column n |\n",
        "|:|-|-|-|-|-|\n",
        "|index 0 | data 0 | data 0 | data 0 | ... | data 0 |\n",
        "|index 1 | data 1 | data 1 | data 1 | ... | data 1 |\n",
        "|index 2 | data 2 | data 2 | data 2 | ... | data 2 |\n",
        "|index 3 | data 3 | data 3 | data 3 | ... | data 3 |\n",
        "| . | . | . | . | . | . |\n",
        "| . | . | . | . | . | . |\n",
        "| . | . | . | . | . | . |\n",
        "|index n | data n | data n | data n | ... | data n |\n",
        "|| series 0 | series 1 | series 2 | ... | series n |\n",
        "\n",
        ">\n",
        "\n",
        "- series : column vector\n",
        "- data frame: 2-plane vector or matrix\n",
        "\n",
        ">\n",
        "\n",
        "<font color = 'blue'>👀 🐾 **An example of data frame: Make an excel data!**\n",
        "\n",
        "Table on p.12 of the textbook\n",
        "\n",
        "|종목코드 | 회사이름| 액면가 | 총주식수 |\n",
        "|:|-|-|-|\n",
        "|005930 | 삼성전자 | 100원 | 5,970,000,000 |\n",
        "|017670 | SK텔레콤 | 500원 | 81,000,000 |\n",
        "|1005380 | 현대자동차 | 5000원 | 214,000,000 |\n",
        "\n"
      ],
      "metadata": {
        "id": "HhxjKRzMymn3"
      }
    },
    {
      "cell_type": "markdown",
      "source": [
        "# For your information!\n",
        "\n",
        "Google Colab comes with many general pre-installed Python libraries.\n",
        "\n",
        "* ✅ pandas - Data manipulation\n",
        "* ✅ numpy - Numerical computing\n",
        "* ✅ matplotlib - Data visualization\n",
        "* ✅ seaborn - Statistical data visualization\n",
        "* ✅ scipy - Scientific computing\n",
        "* ✅ sympy - Symbolic mathematics\n",
        "* ✅ networkx - Graph-based data analysis\n",
        "* ✅ datetime - Date and time handling\n",
        "* ✅ os - File and directory handling\n",
        "* ✅ sys - System-specific parameters"
      ],
      "metadata": {
        "id": "oLHirAXNo2Mh"
      }
    },
    {
      "cell_type": "code",
      "source": [
        "!pip list"
      ],
      "metadata": {
        "collapsed": true,
        "id": "E2m_myAKpRgv"
      },
      "execution_count": null,
      "outputs": []
    },
    {
      "cell_type": "markdown",
      "source": [
        "#**Student activity**"
      ],
      "metadata": {
        "id": "2vq0rcmopscB"
      }
    },
    {
      "cell_type": "code",
      "source": [
        "#@markdown <font color = 'red'> **🐹 Student Activity 1 ⤵️**\n",
        "\n",
        "#@markdown <font color = 'blue'> **dictionary ➡️ data frame, shape (3,5) 3행 5열**\n",
        "\n",
        "#-*- coding: utf-8 -*-\n",
        "\n",
        "# dictionary data with column name as key & list as value\n",
        "!pip install pandas\n",
        "import pandas as pd\n",
        "dict_data = {'c0':[1,2,3], 'c1':[4,5,6], 'c2':[7,8,9], 'c3':[10,11,12], 'c4':[13,14,15]}\n",
        "\n",
        "print('\\n')\n",
        "print(dict_data)\n",
        "print('\\n')\n",
        "#함수로 dict_data 변수 내용을 데이터프레임으로 변환. 변수 df에 할당\n",
        "df = pd.DataFrame(dict_data)\n",
        "\n",
        "print(df)\n",
        "\n",
        "print('\\n')\n",
        "print(type(df))\n"
      ],
      "metadata": {
        "colab": {
          "base_uri": "https://localhost:8080/"
        },
        "id": "KSy0Rz6byu99",
        "outputId": "cde4d966-fc50-4e02-a3cc-9d07cb1f79a2"
      },
      "execution_count": null,
      "outputs": [
        {
          "output_type": "stream",
          "name": "stdout",
          "text": [
            "Requirement already satisfied: pandas in /usr/local/lib/python3.11/dist-packages (2.2.2)\n",
            "Requirement already satisfied: numpy>=1.23.2 in /usr/local/lib/python3.11/dist-packages (from pandas) (2.0.2)\n",
            "Requirement already satisfied: python-dateutil>=2.8.2 in /usr/local/lib/python3.11/dist-packages (from pandas) (2.8.2)\n",
            "Requirement already satisfied: pytz>=2020.1 in /usr/local/lib/python3.11/dist-packages (from pandas) (2025.2)\n",
            "Requirement already satisfied: tzdata>=2022.7 in /usr/local/lib/python3.11/dist-packages (from pandas) (2025.2)\n",
            "Requirement already satisfied: six>=1.5 in /usr/local/lib/python3.11/dist-packages (from python-dateutil>=2.8.2->pandas) (1.17.0)\n",
            "\n",
            "\n",
            "{'c0': [1, 2, 3], 'c1': [4, 5, 6], 'c2': [7, 8, 9], 'c3': [10, 11, 12], 'c4': [13, 14, 15]}\n",
            "\n",
            "\n",
            "   c0  c1  c2  c3  c4\n",
            "0   1   4   7  10  13\n",
            "1   2   5   8  11  14\n",
            "2   3   6   9  12  15\n",
            "\n",
            "\n",
            "<class 'pandas.core.frame.DataFrame'>\n"
          ]
        }
      ]
    },
    {
      "cell_type": "code",
      "source": [
        "#@markdown <font color = 'red'> **🐹 Student Activity 1 ⤵️**\n",
        "\n",
        "#@markdown <font color = 'blue'> **dictionary ➡️ data frame, shape (3,5) 3행 5열 with Index Names**\n",
        "\n",
        "#-*- coding: utf-8 -*-\n",
        "\n",
        "# dictionary data with column name as key & list as value\n",
        "\n",
        "import pandas as pd\n",
        "dict_data = {'c0':[1,2,3], 'c1':[4,5,6], 'c2':[7,8,9], 'c3':[10,11,12], 'c4':[13,14,15]}\n",
        "\n",
        "\n",
        "#함수로 dict_data 변수 내용을 데이터프레임으로 변환. 변수 df에 할당. 아래 [ ] 내용은 new index name이 된다.\n",
        "df = pd.DataFrame(dict_data, index=['item1','item2','item3'])\n",
        "\n",
        "print(df)\n",
        "\n",
        "print('\\n')\n",
        "print(type(df))"
      ],
      "metadata": {
        "id": "TfSC1ikpWawO",
        "outputId": "fc406c77-7485-443d-afac-93f8a53f4032",
        "colab": {
          "base_uri": "https://localhost:8080/"
        }
      },
      "execution_count": null,
      "outputs": [
        {
          "output_type": "stream",
          "name": "stdout",
          "text": [
            "       c0  c1  c2  c3  c4\n",
            "item1   1   4   7  10  13\n",
            "item2   2   5   8  11  14\n",
            "item3   3   6   9  12  15\n",
            "\n",
            "\n",
            "<class 'pandas.core.frame.DataFrame'>\n"
          ]
        }
      ]
    },
    {
      "cell_type": "markdown",
      "source": [
        "👀 🐾 **Give names of row index & coumn name**"
      ],
      "metadata": {
        "id": "Ole8Rw5-7VHQ"
      }
    },
    {
      "cell_type": "code",
      "source": [
        "#@markdown <font color = 'red'> **🐹 Student Activity 2 ⤵️**\n",
        "\n",
        "#@markdown <font color = 'blue'> **행 인덱스/ 열 이름 지정하여 데이터 프레임으로 만들기**\n",
        "\n",
        "#-*- coding: urf-8 -*-\n",
        "\n",
        "import pandas as pd\n",
        "\n",
        "tuple_data = ([15, 'Male', 'Public'], [17, 'Female', 'Priviate'])\n",
        "\n",
        "df = pd.DataFrame(tuple_data, index = ['Simon', 'Emma'],\n",
        "              columns = ['Age', 'Gender', 'School'])\n",
        "\n",
        "print(type(df))\n",
        "print('\\n')\n",
        "\n",
        "print(df)\n",
        "print('\\n')\n",
        "\n",
        "print(df.index)\n",
        "print('\\n')\n",
        "\n",
        "print(df.columns)\n",
        "print('\\n')"
      ],
      "metadata": {
        "id": "3mCeh2bG7wwk",
        "outputId": "bee47e78-00b5-4c1f-a36e-8fba19c755a0",
        "colab": {
          "base_uri": "https://localhost:8080/"
        }
      },
      "execution_count": null,
      "outputs": [
        {
          "output_type": "stream",
          "name": "stdout",
          "text": [
            "<class 'pandas.core.frame.DataFrame'>\n",
            "\n",
            "\n",
            "       Age  Gender    School\n",
            "Simon   15    Male    Public\n",
            "Emma    17  Female  Priviate\n",
            "\n",
            "\n",
            "Index(['Simon', 'Emma'], dtype='object')\n",
            "\n",
            "\n",
            "Index(['Age', 'Gender', 'School'], dtype='object')\n",
            "\n",
            "\n"
          ]
        }
      ]
    },
    {
      "cell_type": "code",
      "source": [
        "#@markdown <font color = 'red'> **🐹 Student Activity 3 ⤵️**\n",
        "\n",
        "#@markdown <font color = 'blue'>위 코드셀 행 인덱스 (row index)를 ['Student 1', 'Student 2']로 변경하고, 열 이름 (column name)을 ['Number of Years', 'M/F', 'Affiliation'] 으로 변경\n",
        "\n",
        "\n",
        "import pandas as pd\n",
        "\n",
        "tuple_data = ([15, 'Male', 'Public'], [17, 'Female', 'Priviate'])\n",
        "\n",
        "df = pd.DataFrame(tuple_data, index = ['Simon', 'Emma'],\n",
        "              columns = ['Age', 'Gender', 'School'])\n",
        "print(df)\n",
        "\n",
        "\n",
        "#@markdown Purpose: 🌼 Add some variaions!\n",
        "#@markdown - new index names 는 새로 지정, new column names는 새로 지정\n",
        "\n",
        "df.index = ['Student 1', 'Student 2']\n",
        "\n",
        "df.columns = ['Number of Years', 'M/F', 'Affiliation']\n",
        "\n",
        "#UserWarning: Pandas doesn't allow columns to be created via a new attribute name. If you miss 'inplace=True argument, you will end up with old column names.\n",
        "#df.rename(columns={'Age':'Number of Years', 'Gender':'M/F', 'School':'Affiliation'}, inplace = True)\n",
        "\n",
        "print(type(df))\n",
        "print('\\n')\n",
        "print(df)\n",
        "\n"
      ],
      "metadata": {
        "id": "Wf6omO_x-Uin",
        "outputId": "464e9a52-bd0c-41de-e743-e8404364512b",
        "colab": {
          "base_uri": "https://localhost:8080/"
        }
      },
      "execution_count": null,
      "outputs": [
        {
          "output_type": "stream",
          "name": "stdout",
          "text": [
            "       Age  Gender    School\n",
            "Simon   15    Male    Public\n",
            "Emma    17  Female  Priviate\n",
            "<class 'pandas.core.frame.DataFrame'>\n",
            "\n",
            "\n",
            "           Number of Years     M/F Affiliation\n",
            "Student 1               15    Male      Public\n",
            "Student 2               17  Female    Priviate\n"
          ]
        }
      ]
    },
    {
      "cell_type": "code",
      "source": [
        "!pip install pandas\n",
        "import pandas as pd"
      ],
      "metadata": {
        "colab": {
          "base_uri": "https://localhost:8080/"
        },
        "id": "U38wC1Rj_UTr",
        "outputId": "29c738f3-ec64-46d0-9773-624360c2077b"
      },
      "execution_count": null,
      "outputs": [
        {
          "output_type": "stream",
          "name": "stdout",
          "text": [
            "Requirement already satisfied: pandas in /usr/local/lib/python3.11/dist-packages (2.2.2)\n",
            "Requirement already satisfied: numpy>=1.23.2 in /usr/local/lib/python3.11/dist-packages (from pandas) (2.0.2)\n",
            "Requirement already satisfied: python-dateutil>=2.8.2 in /usr/local/lib/python3.11/dist-packages (from pandas) (2.8.2)\n",
            "Requirement already satisfied: pytz>=2020.1 in /usr/local/lib/python3.11/dist-packages (from pandas) (2025.2)\n",
            "Requirement already satisfied: tzdata>=2022.7 in /usr/local/lib/python3.11/dist-packages (from pandas) (2025.2)\n",
            "Requirement already satisfied: six>=1.5 in /usr/local/lib/python3.11/dist-packages (from python-dateutil>=2.8.2->pandas) (1.17.0)\n"
          ]
        }
      ]
    },
    {
      "cell_type": "code",
      "source": [
        "tuple_data = ([15, 'Male', 'Public'], [17, 'Female', 'Priviate'])\n",
        "df = pd.DataFrame(tuple_data, index = ['Simon', 'Emma'], columns = ['Age', 'Gender', 'School'])\n",
        "df.rename(index = {'Simon':'Student1', 'Emma':'Student 2'})\n",
        "print(df)"
      ],
      "metadata": {
        "colab": {
          "base_uri": "https://localhost:8080/"
        },
        "id": "8hB2s27g9TMT",
        "outputId": "11608aef-0b19-4709-af1f-744e43065046"
      },
      "execution_count": null,
      "outputs": [
        {
          "output_type": "stream",
          "name": "stdout",
          "text": [
            "       Age  Gender    School\n",
            "Simon   15    Male    Public\n",
            "Emma    17  Female  Priviate\n"
          ]
        }
      ]
    },
    {
      "cell_type": "code",
      "source": [
        "#@markdown <font color = 'red'> **🐹 Student Activity 3_1 ⤵️**\n",
        "\n",
        "#@markdown <font color = 'blue'> **Instead of giving new names for the rows and columns directly, try to use 'rename()' function!**\n",
        "\n",
        "#@markdown - When new names are given to index names and column names, rename() function can be used.\n",
        "\n",
        "import pandas as pd\n",
        "\n",
        "tuple_data = ([15, 'Male', 'Public'], [17, 'Female', 'Priviate'])\n",
        "\n",
        "df = pd.DataFrame(tuple_data, index = ['Simon', 'Emma'],\n",
        "              columns = ['Age', 'Gender', 'School'])\n",
        "\n",
        "print(df)\n",
        "print('\\n')\n",
        "\n",
        "df.rename(index = {'Simon':'Student1', 'Emma':'Student 2'}, inplace = True)\n",
        "df.rename(columns = {'Age':'Number of Years', 'Gender':'M/F', 'School':'Affiliation'}, inplace = True)\n",
        "\n",
        "#UserWarning: If you miss 'inplace=True argument, you will end up with old column names.\n",
        "\n",
        "print(type(df))\n",
        "print('\\n')\n",
        "print(df)"
      ],
      "metadata": {
        "id": "BCqSNiut8cvP",
        "outputId": "cc78eeb3-498d-4b51-9cf7-d36a11e19b54",
        "colab": {
          "base_uri": "https://localhost:8080/"
        }
      },
      "execution_count": null,
      "outputs": [
        {
          "output_type": "stream",
          "name": "stdout",
          "text": [
            "       Age  Gender    School\n",
            "Simon   15    Male    Public\n",
            "Emma    17  Female  Priviate\n",
            "\n",
            "\n",
            "<class 'pandas.core.frame.DataFrame'>\n",
            "\n",
            "\n",
            "           Number of Years     M/F Affiliation\n",
            "Student1                15    Male      Public\n",
            "Student 2               17  Female    Priviate\n"
          ]
        }
      ]
    },
    {
      "cell_type": "markdown",
      "source": [
        "###**💊 In Pandas, inplace=True is an argument used in methods that modify a DataFrame or Series.**\n",
        "\n",
        "- When inplace=True, the operation modifies the original DataFrame directly.\n",
        "\n",
        "- When inplace=False (default), the operation returns a new DataFrame."
      ],
      "metadata": {
        "id": "hid3lFp8r5vI"
      }
    },
    {
      "cell_type": "code",
      "source": [
        "#@markdown <font color = 'red'> **🐹 Student Activity 3_2 ⤵️**\n",
        "\n",
        "#@markdown <font color = 'blue'> **💊 If you miss 'inplace=True argument of pd.rename() function for the immediate application of the operation, you will end up with old row/column names.**\n",
        "\n",
        "import pandas as pd\n",
        "\n",
        "tuple_data = ([15, 'Male', 'Public'], [17, 'Female', 'Priviate'])\n",
        "\n",
        "df = pd.DataFrame(tuple_data, index = ['Simon', 'Emma'],\n",
        "              columns = ['Age', 'Gender', 'School'])\n",
        "\n",
        "df.rename(index = {'Simon':'Student1', 'Emma':'Student 2'})\n",
        "\n",
        "df.rename(columns = {'Age':'Number of Years', 'Gender':'M/F', 'School':'Affiliation'})\n",
        "\n",
        "\n",
        "print(type(df))\n",
        "print('\\n')\n",
        "print(df)"
      ],
      "metadata": {
        "id": "Pc_Q-FY2-Cdf",
        "outputId": "4cd367f2-764f-4d2c-f8d2-eb73957d0056",
        "colab": {
          "base_uri": "https://localhost:8080/"
        }
      },
      "execution_count": null,
      "outputs": [
        {
          "output_type": "stream",
          "name": "stdout",
          "text": [
            "<class 'pandas.core.frame.DataFrame'>\n",
            "\n",
            "\n",
            "       Age  Gender    School\n",
            "Simon   15    Male    Public\n",
            "Emma    17  Female  Priviate\n"
          ]
        }
      ]
    },
    {
      "cell_type": "code",
      "source": [
        "#💊 🐹 ⤵️ (cf., by default: inplce = False 인자(argument))\n",
        "\n",
        "import pandas as pd\n",
        "\n",
        "tuple_data = ([15, 'Male', 'Public'], [17, 'Female', 'Priviate'])\n",
        "\n",
        "df = pd.DataFrame(tuple_data, index = ['Simon', 'Emma'],\n",
        "              columns = ['Age', 'Gender', 'School'])\n",
        "\n",
        "df.rename(index = {'Simon':'Student1', 'Emma':'Student 2'}, inplace = False)\n",
        "\n",
        "df.rename(columns = {'Age':'Number of Years', 'Gender':'M/F', 'School':'Affiliation'}, inplace = False)\n",
        "\n",
        "\n",
        "print(type(df))\n",
        "print('\\n')\n",
        "print(df)"
      ],
      "metadata": {
        "colab": {
          "base_uri": "https://localhost:8080/"
        },
        "id": "pMgGd8_J88nn",
        "outputId": "ad0e03d3-15eb-41f1-cefa-f3446b65233e"
      },
      "execution_count": null,
      "outputs": [
        {
          "output_type": "stream",
          "name": "stdout",
          "text": [
            "<class 'pandas.core.frame.DataFrame'>\n",
            "\n",
            "\n",
            "       Age  Gender    School\n",
            "Simon   15    Male    Public\n",
            "Emma    17  Female  Priviate\n"
          ]
        }
      ]
    },
    {
      "cell_type": "markdown",
      "source": [
        "<font color = 'blue'>👀 🐾 **Dropping rows & colums**"
      ],
      "metadata": {
        "id": "J8FhLIJoGyOP"
      }
    },
    {
      "cell_type": "code",
      "source": [
        "#@markdown <font color = 'red'> **🐹 Student Activity 4 ⤵️**\n",
        "\n",
        "#@markdown <font color = 'blue'> **Dropping rows 행 삭제**\n",
        "\n",
        "import pandas as pd\n",
        "\n",
        "exam_data = {'Math':[90, 80, 70], 'English':[98, 89, 95],\n",
        "             'Music':[85, 95, 100], 'Gym':[100,90,90]}\n",
        "\n",
        "df = pd.DataFrame(exam_data, index = ['Simon', 'Emma', 'Mary'])\n",
        "\n",
        "print(df)\n",
        "print('\\n')\n",
        "\n",
        "df2 = df[:]\n",
        "\n",
        "# axis=0 for dropping \"rows\" (cf., axis=1 for dopping columns)\n",
        "df2.drop('Emma', axis=0, inplace = True)\n",
        "\n",
        "print(df2)\n",
        "print('\\n')"
      ],
      "metadata": {
        "id": "0iqCoSQZEB4I",
        "outputId": "7ff4c631-f4b4-428e-a8d3-fe21216dbdbe",
        "colab": {
          "base_uri": "https://localhost:8080/"
        }
      },
      "execution_count": null,
      "outputs": [
        {
          "output_type": "stream",
          "name": "stdout",
          "text": [
            "       Math  English  Music  Gym\n",
            "Simon    90       98     85  100\n",
            "Emma     80       89     95   90\n",
            "Mary     70       95    100   90\n",
            "\n",
            "\n",
            "       Math  English  Music  Gym\n",
            "Simon    90       98     85  100\n",
            "Mary     70       95    100   90\n",
            "\n",
            "\n"
          ]
        },
        {
          "output_type": "stream",
          "name": "stderr",
          "text": [
            "<ipython-input-16-4721aa9579e3>:16: SettingWithCopyWarning: \n",
            "A value is trying to be set on a copy of a slice from a DataFrame\n",
            "\n",
            "See the caveats in the documentation: https://pandas.pydata.org/pandas-docs/stable/user_guide/indexing.html#returning-a-view-versus-a-copy\n",
            "  df2.drop('Emma', axis=0, inplace = True) # axis=0 for dropping \"rows\" (cf., axis=1 for dopping columns)\n"
          ]
        }
      ]
    },
    {
      "cell_type": "code",
      "source": [
        "#@markdown <font color = 'red'> **🐹 Student Activity 4 ⤵️**\n",
        "\n",
        "#@markdown <font color = 'blue'> **Dropping columns 열 삭제**\n",
        "import pandas as pd\n",
        "\n",
        "exam_data = {'Math':[90, 80, 70], 'English':[98, 89, 95],\n",
        "             'Music':[85, 95, 100], 'Gym':[100,90,90]}\n",
        "\n",
        "df = pd.DataFrame(exam_data, index = ['Simon', 'Emma', 'Mary'])\n",
        "\n",
        "print(df)\n",
        "print('\\n')\n",
        "\n",
        "df2 = df[:]\n",
        "\n",
        "# axis=1 for dropping columns\n",
        "df2.drop('Gym', axis=1, inplace=True)\n",
        "\n",
        "print(df2)"
      ],
      "metadata": {
        "id": "3gakU7shGM-e",
        "outputId": "ea48bdf2-0b13-4068-a922-7976d1ecedcb",
        "colab": {
          "base_uri": "https://localhost:8080/"
        }
      },
      "execution_count": null,
      "outputs": [
        {
          "output_type": "stream",
          "name": "stdout",
          "text": [
            "       Math  English  Music  Gym\n",
            "Simon    90       98     85  100\n",
            "Emma     80       89     95   90\n",
            "Mary     70       95    100   90\n",
            "\n",
            "\n",
            "       Math  English  Music\n",
            "Simon    90       98     85\n",
            "Emma     80       89     95\n",
            "Mary     70       95    100\n"
          ]
        },
        {
          "output_type": "stream",
          "name": "stderr",
          "text": [
            "<ipython-input-17-227bb8f723a7>:15: SettingWithCopyWarning: \n",
            "A value is trying to be set on a copy of a slice from a DataFrame\n",
            "\n",
            "See the caveats in the documentation: https://pandas.pydata.org/pandas-docs/stable/user_guide/indexing.html#returning-a-view-versus-a-copy\n",
            "  df2.drop('Gym', axis=1, inplace=True) # axis=1 for dropping columns\n"
          ]
        }
      ]
    },
    {
      "cell_type": "markdown",
      "source": [
        "#<font color = 'red'> **loc[ ], iloc[ ]**\n",
        ">\n",
        "* 인덱스 이름(index name) 기준으로 선택할 때는 loc[] 사용\n",
        "* 정수형 위치(integer position) 인덱스를 사용할 때는 iloc[] 사용\n",
        "\n",
        ">\n",
        "\n",
        "| 구분 | loc[ ] | iloc[ ] |\n",
        "|:|-|-|\n",
        "|탐색대상|인덱스 이름 index label/name| 정수형 위치 인덱스 (integer position)|\n",
        "|범위지정 예시|loc['a':'c'] ➡️ 'a', 'b', 'c'|iloc[3:7] ➡️  3,4,5,6|"
      ],
      "metadata": {
        "id": "DaZaTy2SH_tX"
      }
    },
    {
      "cell_type": "code",
      "source": [
        "#@markdown <font color = 'red'> **🐹 Student Activity 5: Label-based indexing. 'locate' or 'location' for loc ⤵️**\n",
        "\n",
        "#@markdown <font color = 'blue'> **Choose a row 행 선택**\n",
        "\n",
        "#@markdown <font color = 'blue'> **loc[] & iloc[]**\n",
        "\n",
        "import pandas as pd\n",
        "\n",
        "exam_data = {'Math':[90, 80, 70], 'English':[98, 89, 95],\n",
        "             'Music':[85, 95, 100], 'Gym':[100,90,90]}\n",
        "\n",
        "df = pd.DataFrame(exam_data, index = ['Simon', 'Emma', 'Mary'])\n",
        "\n",
        "print(df)\n",
        "print('\\n')\n",
        "\n",
        "\n",
        "#Data display is trasversed when one element is in loc[].\n",
        "label1 = df.loc['Simon']\n",
        "print(label1)\n",
        "print('\\n')\n",
        "\n",
        "#Data display is trasversed when one element is in loc[].\n",
        "position1 = df.iloc[0]\n",
        "print(position1)\n"
      ],
      "metadata": {
        "id": "gyoTZY2KHtuZ",
        "outputId": "12597478-c93d-400d-acd8-115bd98ff8b6",
        "colab": {
          "base_uri": "https://localhost:8080/"
        },
        "collapsed": true
      },
      "execution_count": null,
      "outputs": [
        {
          "output_type": "stream",
          "name": "stdout",
          "text": [
            "       Math  English  Music  Gym\n",
            "Simon    90       98     85  100\n",
            "Emma     80       89     95   90\n",
            "Mary     70       95    100   90\n",
            "\n",
            "\n",
            "Math        90\n",
            "English     98\n",
            "Music       85\n",
            "Gym        100\n",
            "Name: Simon, dtype: int64\n",
            "\n",
            "\n",
            "Math        90\n",
            "English     98\n",
            "Music       85\n",
            "Gym        100\n",
            "Name: Simon, dtype: int64\n"
          ]
        }
      ]
    },
    {
      "cell_type": "code",
      "source": [
        "!pip install pandas\n",
        "import pandas as pd\n",
        "exam_data = {'Math':[90, 80, 70], 'English':[98, 89, 95], 'Music':[85, 95, 100], 'Gym':[100,90,90]}\n",
        "df = pd.DataFrame(exam_data, index = ['Simon', 'Emma', 'Mary'])\n",
        "print(df)\n",
        "print('\\n')\n",
        "label1 = df.loc['Simon']\n",
        "print(label1)\n",
        "print('\\n')\n",
        "position1 = df.iloc[0]\n",
        "print(position1)"
      ],
      "metadata": {
        "colab": {
          "base_uri": "https://localhost:8080/"
        },
        "id": "XPVR6fxD_o5u",
        "outputId": "67e055d3-1aa7-4df2-c029-2a070411eb3f"
      },
      "execution_count": null,
      "outputs": [
        {
          "output_type": "stream",
          "name": "stdout",
          "text": [
            "Requirement already satisfied: pandas in /usr/local/lib/python3.11/dist-packages (2.2.2)\n",
            "Requirement already satisfied: numpy>=1.23.2 in /usr/local/lib/python3.11/dist-packages (from pandas) (2.0.2)\n",
            "Requirement already satisfied: python-dateutil>=2.8.2 in /usr/local/lib/python3.11/dist-packages (from pandas) (2.8.2)\n",
            "Requirement already satisfied: pytz>=2020.1 in /usr/local/lib/python3.11/dist-packages (from pandas) (2025.2)\n",
            "Requirement already satisfied: tzdata>=2022.7 in /usr/local/lib/python3.11/dist-packages (from pandas) (2025.2)\n",
            "Requirement already satisfied: six>=1.5 in /usr/local/lib/python3.11/dist-packages (from python-dateutil>=2.8.2->pandas) (1.17.0)\n",
            "       Math  English  Music  Gym\n",
            "Simon    90       98     85  100\n",
            "Emma     80       89     95   90\n",
            "Mary     70       95    100   90\n",
            "\n",
            "\n",
            "Math        90\n",
            "English     98\n",
            "Music       85\n",
            "Gym        100\n",
            "Name: Simon, dtype: int64\n",
            "\n",
            "\n",
            "Math        90\n",
            "English     98\n",
            "Music       85\n",
            "Gym        100\n",
            "Name: Simon, dtype: int64\n"
          ]
        }
      ]
    },
    {
      "cell_type": "code",
      "source": [
        "import pandas as pd\n",
        "exam_data = {'Math':[90, 80, 70, 85], 'English':[98, 89, 95, 79],\n",
        "             'Music':[85, 95, 100, 100], 'Gym':[100,90,90, 88]}\n",
        "df = pd.DataFrame(exam_data, index = ['Simon', 'Emma', 'Mary', 'Louis'])\n",
        "print(df)\n",
        "print('\\n')\n",
        "label2 = df.loc[['Simon', 'Mary']]\n",
        "print(label2)\n",
        "print('\\n')\n",
        "position1 = df.iloc[0]\n",
        "print(position1)\n",
        "print('\\n')\n",
        "position2 = df.iloc[[0,2]]\n",
        "print(position2)\n",
        "print('\\n')\n",
        "label3 = df.loc['Simon':'Emma']\n",
        "print(label3)\n",
        "print('\\n')\n",
        "location4 = df.iloc[0:2]\n",
        "print(location4)"
      ],
      "metadata": {
        "colab": {
          "base_uri": "https://localhost:8080/"
        },
        "id": "UJq053ZRFR5d",
        "outputId": "5523553b-7b1c-4245-f6fd-26cb7e5eb37c"
      },
      "execution_count": null,
      "outputs": [
        {
          "output_type": "stream",
          "name": "stdout",
          "text": [
            "       Math  English  Music  Gym\n",
            "Simon    90       98     85  100\n",
            "Emma     80       89     95   90\n",
            "Mary     70       95    100   90\n",
            "Louis    85       79    100   88\n",
            "\n",
            "\n",
            "       Math  English  Music  Gym\n",
            "Simon    90       98     85  100\n",
            "Mary     70       95    100   90\n",
            "\n",
            "\n",
            "Math        90\n",
            "English     98\n",
            "Music       85\n",
            "Gym        100\n",
            "Name: Simon, dtype: int64\n",
            "\n",
            "\n",
            "       Math  English  Music  Gym\n",
            "Simon    90       98     85  100\n",
            "Mary     70       95    100   90\n",
            "\n",
            "\n",
            "       Math  English  Music  Gym\n",
            "Simon    90       98     85  100\n",
            "Emma     80       89     95   90\n",
            "\n",
            "\n",
            "       Math  English  Music  Gym\n",
            "Simon    90       98     85  100\n",
            "Emma     80       89     95   90\n"
          ]
        }
      ]
    },
    {
      "cell_type": "code",
      "source": [
        "#@markdown <font color = 'red'> **🐹 Student Activity 6 ⤵️**\n",
        "\n",
        "#@markdown <font color = 'blue'> **Choose rows 복수행 선택**\n",
        "\n",
        "#@markdown <font color = 'blue'> **loc[[]] & iloc[[]]**\n",
        "\n",
        "import pandas as pd\n",
        "\n",
        "exam_data = {'Math':[90, 80, 70, 85], 'English':[98, 89, 95, 79],\n",
        "             'Music':[85, 95, 100, 100], 'Gym':[100,90,90, 88]}\n",
        "\n",
        "df = pd.DataFrame(exam_data, index = ['Simon', 'Emma', 'Mary', 'Louis'])\n",
        "\n",
        "print(df)\n",
        "print('\\n')\n",
        "\n",
        "#Choose rows 복수행 선택\n",
        "label2 = df.loc[['Simon', 'Mary']]\n",
        "print(label2)\n",
        "print('\\n')\n",
        "\n",
        "#Choose a row, resulting in its corresponding columns trasversed.\n",
        "position1 = df.iloc[0]\n",
        "print(position1)\n",
        "print('\\n')\n",
        "\n",
        "#Choose rows 복수행 선택 (index number 0 & index number 2)\n",
        "position2 = df.iloc[[0,2]]\n",
        "print(position2)\n",
        "print('\\n')\n",
        "\n",
        "#Choose rows 복수행 선택 (index number 0, index number 2, & index number 2)\n",
        "position3 = df.iloc[[0,1,2]]\n",
        "print(position3)\n",
        "print('\\n')"
      ],
      "metadata": {
        "id": "wd4ZkSmkJlLk",
        "outputId": "ad04e667-3cdc-4d86-8c84-de2efc05a568",
        "colab": {
          "base_uri": "https://localhost:8080/"
        }
      },
      "execution_count": null,
      "outputs": [
        {
          "output_type": "stream",
          "name": "stdout",
          "text": [
            "       Math  English  Music  Gym\n",
            "Simon    90       98     85  100\n",
            "Emma     80       89     95   90\n",
            "Mary     70       95    100   90\n",
            "Louis    85       79    100   88\n",
            "\n",
            "\n",
            "       Math  English  Music  Gym\n",
            "Simon    90       98     85  100\n",
            "Mary     70       95    100   90\n",
            "\n",
            "\n",
            "Math        90\n",
            "English     98\n",
            "Music       85\n",
            "Gym        100\n",
            "Name: Simon, dtype: int64\n",
            "\n",
            "\n",
            "       Math  English  Music  Gym\n",
            "Simon    90       98     85  100\n",
            "Mary     70       95    100   90\n",
            "\n",
            "\n",
            "       Math  English  Music  Gym\n",
            "Simon    90       98     85  100\n",
            "Emma     80       89     95   90\n",
            "Mary     70       95    100   90\n",
            "\n",
            "\n"
          ]
        }
      ]
    },
    {
      "cell_type": "code",
      "source": [
        "#@markdown <font color = 'red'> **🐹 Student Activity 7 ⤵️**\n",
        "\n",
        "#@markdown <font color = 'blue'> **Select rows using the colon symbol 콜른 사용하여 복수행 선택**\n",
        "\n",
        "#@markdown <font color = 'blue'> **loc[[]] & iloc[[]]**\n",
        "\n",
        "import pandas as pd\n",
        "\n",
        "exam_data = {'Math':[90, 80, 70, 85], 'English':[98, 89, 95, 79],\n",
        "             'Music':[85, 95, 100, 100], 'Gym':[100,90,90, 88]}\n",
        "\n",
        "df = pd.DataFrame(exam_data, index = ['Simon', 'Emma', 'Mary', 'Louis'])\n",
        "\n",
        "print(df)\n",
        "print('\\n')\n",
        "\n",
        "label3 = df.loc['Simon':'Emma']\n",
        "print(label3)\n",
        "print('\\n')\n",
        "\n",
        "#The last index number is excluded.\n",
        "location4 = df.iloc[0:2]\n",
        "print(location4)"
      ],
      "metadata": {
        "id": "wgsiKE2pK9To",
        "outputId": "54fbc09f-17f0-4389-d6e2-ca0c22d7e741",
        "colab": {
          "base_uri": "https://localhost:8080/"
        }
      },
      "execution_count": null,
      "outputs": [
        {
          "output_type": "stream",
          "name": "stdout",
          "text": [
            "       Math  English  Music  Gym\n",
            "Simon    90       98     85  100\n",
            "Emma     80       89     95   90\n",
            "Mary     70       95    100   90\n",
            "Louis    85       79    100   88\n",
            "\n",
            "\n",
            "       Math  English  Music  Gym\n",
            "Simon    90       98     85  100\n",
            "Emma     80       89     95   90\n",
            "\n",
            "\n",
            "       Math  English  Music  Gym\n",
            "Simon    90       98     85  100\n",
            "Emma     80       89     95   90\n"
          ]
        }
      ]
    },
    {
      "cell_type": "code",
      "source": [
        "#@markdown <font color = 'red'> **🐹 Student Activity 8 ⤵️**\n",
        "\n",
        "#@markdown <font color = 'blue'> **Select a column 열 선택**\n",
        "\n",
        "#@markdown <font color = 'blue'> **column name[ ]**\n",
        "\n",
        "import pandas as pd\n",
        "\n",
        "exam_data = {'Math':[90, 80, 70, 85], 'English':[98, 89, 95, 79],\n",
        "             'Music':[85, 95, 100, 100], 'Gym':[100,90,90, 88]}\n",
        "\n",
        "df = pd.DataFrame(exam_data, index = ['Simon', 'Emma', 'Mary', 'Louis'])\n",
        "\n",
        "print(df)\n",
        "print('\\n')\n",
        "\n",
        "math1 = df['Math']\n",
        "print(math1)\n",
        "print('\\n')\n",
        "print(type(math1))\n",
        "\n",
        "english1 = df['English']\n",
        "print(english1)\n",
        "print('\\n')\n",
        "print(type(english1))\n",
        "\n",
        "gym1 = df['Gym']\n",
        "print(gym1)\n",
        "print('\\n')\n",
        "print(type(gym1))"
      ],
      "metadata": {
        "id": "1ElBWe4XMLQN",
        "outputId": "536ab4ec-b60e-4097-969b-09aa4209f61b",
        "colab": {
          "base_uri": "https://localhost:8080/"
        }
      },
      "execution_count": null,
      "outputs": [
        {
          "output_type": "stream",
          "name": "stdout",
          "text": [
            "       Math  English  Music  Gym\n",
            "Simon    90       98     85  100\n",
            "Emma     80       89     95   90\n",
            "Mary     70       95    100   90\n",
            "Louis    85       79    100   88\n",
            "\n",
            "\n",
            "Simon    90\n",
            "Emma     80\n",
            "Mary     70\n",
            "Louis    85\n",
            "Name: Math, dtype: int64\n",
            "\n",
            "\n",
            "<class 'pandas.core.series.Series'>\n",
            "Simon    98\n",
            "Emma     89\n",
            "Mary     95\n",
            "Louis    79\n",
            "Name: English, dtype: int64\n",
            "\n",
            "\n",
            "<class 'pandas.core.series.Series'>\n",
            "Simon    100\n",
            "Emma      90\n",
            "Mary      90\n",
            "Louis     88\n",
            "Name: Gym, dtype: int64\n",
            "\n",
            "\n",
            "<class 'pandas.core.series.Series'>\n"
          ]
        }
      ]
    },
    {
      "cell_type": "code",
      "source": [
        "#@markdown <font color = 'red'> **🐹 Student Activity 8 ⤵️**\n",
        "\n",
        "#@markdown <font color = 'blue'> **Select columns 복수열 선택**\n",
        "\n",
        "#@markdown <font color = 'blue'> **column name[[]]**\n",
        "\n",
        "import pandas as pd\n",
        "\n",
        "exam_data = {'Math':[90, 80, 70, 85], 'English':[98, 89, 95, 79],\n",
        "             'Music':[85, 95, 100, 100], 'Gym':[100,90,90, 88]}\n",
        "\n",
        "df = pd.DataFrame(exam_data, index = ['Simon', 'Emma', 'Mary', 'Louis'])\n",
        "\n",
        "print(df)\n",
        "print('\\n')\n",
        "\n",
        "#💣Remember to use two sets of squared brackets!\n",
        "eng_gym = df[['English','Gym']]\n",
        "print(eng_gym)\n",
        "print('\\n')\n",
        "print(type(eng_gym))\n",
        "\n",
        "#💣Remember to use two sets of squared brackets!\n",
        "three_subj = df[['English','Music','Gym']]\n",
        "print(three_subj)\n",
        "print('\\n')\n",
        "print(type(three_subj))"
      ],
      "metadata": {
        "id": "i6JeRsBhN-H1",
        "outputId": "030c118a-ef4b-48e7-ac0a-83f5047f55b8",
        "colab": {
          "base_uri": "https://localhost:8080/"
        }
      },
      "execution_count": null,
      "outputs": [
        {
          "output_type": "stream",
          "name": "stdout",
          "text": [
            "       Math  English  Music  Gym\n",
            "Simon    90       98     85  100\n",
            "Emma     80       89     95   90\n",
            "Mary     70       95    100   90\n",
            "Louis    85       79    100   88\n",
            "\n",
            "\n",
            "       English  Gym\n",
            "Simon       98  100\n",
            "Emma        89   90\n",
            "Mary        95   90\n",
            "Louis       79   88\n",
            "\n",
            "\n",
            "<class 'pandas.core.frame.DataFrame'>\n",
            "       English  Music  Gym\n",
            "Simon       98     85  100\n",
            "Emma        89     95   90\n",
            "Mary        95    100   90\n",
            "Louis       79    100   88\n",
            "\n",
            "\n",
            "<class 'pandas.core.frame.DataFrame'>\n"
          ]
        }
      ]
    }
  ]
}