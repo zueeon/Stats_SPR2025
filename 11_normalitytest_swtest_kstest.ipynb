{
  "nbformat": 4,
  "nbformat_minor": 0,
  "metadata": {
    "colab": {
      "provenance": [],
      "include_colab_link": true
    },
    "kernelspec": {
      "name": "python3",
      "display_name": "Python 3"
    },
    "language_info": {
      "name": "python"
    }
  },
  "cells": [
    {
      "cell_type": "markdown",
      "metadata": {
        "id": "view-in-github",
        "colab_type": "text"
      },
      "source": [
        "<a href=\"https://colab.research.google.com/github/zueeon/Stats_SPR2025/blob/main/11_normalitytest_swtest_kstest.ipynb\" target=\"_parent\"><img src=\"https://colab.research.google.com/assets/colab-badge.svg\" alt=\"Open In Colab\"/></a>"
      ]
    },
    {
      "cell_type": "code",
      "source": [
        "!pip install --upgrade nbformat nbconvert"
      ],
      "metadata": {
        "id": "7P8V4mXNa6ur",
        "outputId": "33d05148-3a5a-4140-ac08-77262590923e",
        "colab": {
          "base_uri": "https://localhost:8080/"
        },
        "collapsed": true
      },
      "execution_count": null,
      "outputs": [
        {
          "output_type": "stream",
          "name": "stdout",
          "text": [
            "Requirement already satisfied: nbformat in /usr/local/lib/python3.11/dist-packages (5.10.4)\n",
            "Requirement already satisfied: nbconvert in /usr/local/lib/python3.11/dist-packages (7.16.6)\n",
            "Requirement already satisfied: fastjsonschema>=2.15 in /usr/local/lib/python3.11/dist-packages (from nbformat) (2.21.1)\n",
            "Requirement already satisfied: jsonschema>=2.6 in /usr/local/lib/python3.11/dist-packages (from nbformat) (4.23.0)\n",
            "Requirement already satisfied: jupyter-core!=5.0.*,>=4.12 in /usr/local/lib/python3.11/dist-packages (from nbformat) (5.7.2)\n",
            "Requirement already satisfied: traitlets>=5.1 in /usr/local/lib/python3.11/dist-packages (from nbformat) (5.7.1)\n",
            "Requirement already satisfied: beautifulsoup4 in /usr/local/lib/python3.11/dist-packages (from nbconvert) (4.13.4)\n",
            "Requirement already satisfied: bleach!=5.0.0 in /usr/local/lib/python3.11/dist-packages (from bleach[css]!=5.0.0->nbconvert) (6.2.0)\n",
            "Requirement already satisfied: defusedxml in /usr/local/lib/python3.11/dist-packages (from nbconvert) (0.7.1)\n",
            "Requirement already satisfied: jinja2>=3.0 in /usr/local/lib/python3.11/dist-packages (from nbconvert) (3.1.6)\n",
            "Requirement already satisfied: jupyterlab-pygments in /usr/local/lib/python3.11/dist-packages (from nbconvert) (0.3.0)\n",
            "Requirement already satisfied: markupsafe>=2.0 in /usr/local/lib/python3.11/dist-packages (from nbconvert) (3.0.2)\n",
            "Requirement already satisfied: mistune<4,>=2.0.3 in /usr/local/lib/python3.11/dist-packages (from nbconvert) (3.1.3)\n",
            "Requirement already satisfied: nbclient>=0.5.0 in /usr/local/lib/python3.11/dist-packages (from nbconvert) (0.10.2)\n",
            "Requirement already satisfied: packaging in /usr/local/lib/python3.11/dist-packages (from nbconvert) (24.2)\n",
            "Requirement already satisfied: pandocfilters>=1.4.1 in /usr/local/lib/python3.11/dist-packages (from nbconvert) (1.5.1)\n",
            "Requirement already satisfied: pygments>=2.4.1 in /usr/local/lib/python3.11/dist-packages (from nbconvert) (2.19.1)\n",
            "Requirement already satisfied: webencodings in /usr/local/lib/python3.11/dist-packages (from bleach!=5.0.0->bleach[css]!=5.0.0->nbconvert) (0.5.1)\n",
            "Requirement already satisfied: tinycss2<1.5,>=1.1.0 in /usr/local/lib/python3.11/dist-packages (from bleach[css]!=5.0.0->nbconvert) (1.4.0)\n",
            "Requirement already satisfied: attrs>=22.2.0 in /usr/local/lib/python3.11/dist-packages (from jsonschema>=2.6->nbformat) (25.3.0)\n",
            "Requirement already satisfied: jsonschema-specifications>=2023.03.6 in /usr/local/lib/python3.11/dist-packages (from jsonschema>=2.6->nbformat) (2025.4.1)\n",
            "Requirement already satisfied: referencing>=0.28.4 in /usr/local/lib/python3.11/dist-packages (from jsonschema>=2.6->nbformat) (0.36.2)\n",
            "Requirement already satisfied: rpds-py>=0.7.1 in /usr/local/lib/python3.11/dist-packages (from jsonschema>=2.6->nbformat) (0.24.0)\n",
            "Requirement already satisfied: platformdirs>=2.5 in /usr/local/lib/python3.11/dist-packages (from jupyter-core!=5.0.*,>=4.12->nbformat) (4.3.8)\n",
            "Requirement already satisfied: jupyter-client>=6.1.12 in /usr/local/lib/python3.11/dist-packages (from nbclient>=0.5.0->nbconvert) (6.1.12)\n",
            "Requirement already satisfied: soupsieve>1.2 in /usr/local/lib/python3.11/dist-packages (from beautifulsoup4->nbconvert) (2.7)\n",
            "Requirement already satisfied: typing-extensions>=4.0.0 in /usr/local/lib/python3.11/dist-packages (from beautifulsoup4->nbconvert) (4.13.2)\n",
            "Requirement already satisfied: pyzmq>=13 in /usr/local/lib/python3.11/dist-packages (from jupyter-client>=6.1.12->nbclient>=0.5.0->nbconvert) (24.0.1)\n",
            "Requirement already satisfied: python-dateutil>=2.1 in /usr/local/lib/python3.11/dist-packages (from jupyter-client>=6.1.12->nbclient>=0.5.0->nbconvert) (2.9.0.post0)\n",
            "Requirement already satisfied: tornado>=4.1 in /usr/local/lib/python3.11/dist-packages (from jupyter-client>=6.1.12->nbclient>=0.5.0->nbconvert) (6.4.2)\n",
            "Requirement already satisfied: six>=1.5 in /usr/local/lib/python3.11/dist-packages (from python-dateutil>=2.1->jupyter-client>=6.1.12->nbclient>=0.5.0->nbconvert) (1.17.0)\n"
          ]
        }
      ]
    },
    {
      "cell_type": "code",
      "source": [
        "!pip install --upgrade nbformat nbconvert"
      ],
      "metadata": {
        "collapsed": true,
        "colab": {
          "base_uri": "https://localhost:8080/"
        },
        "id": "xRgcNYbOptlv",
        "outputId": "022f1512-57f5-41bf-9eca-f075c39cc87e"
      },
      "execution_count": null,
      "outputs": [
        {
          "output_type": "stream",
          "name": "stdout",
          "text": [
            "Requirement already satisfied: nbformat in /usr/local/lib/python3.11/dist-packages (5.10.4)\n",
            "Requirement already satisfied: nbconvert in /usr/local/lib/python3.11/dist-packages (7.16.6)\n",
            "Requirement already satisfied: fastjsonschema>=2.15 in /usr/local/lib/python3.11/dist-packages (from nbformat) (2.21.1)\n",
            "Requirement already satisfied: jsonschema>=2.6 in /usr/local/lib/python3.11/dist-packages (from nbformat) (4.23.0)\n",
            "Requirement already satisfied: jupyter-core!=5.0.*,>=4.12 in /usr/local/lib/python3.11/dist-packages (from nbformat) (5.7.2)\n",
            "Requirement already satisfied: traitlets>=5.1 in /usr/local/lib/python3.11/dist-packages (from nbformat) (5.7.1)\n",
            "Requirement already satisfied: beautifulsoup4 in /usr/local/lib/python3.11/dist-packages (from nbconvert) (4.13.4)\n",
            "Requirement already satisfied: bleach!=5.0.0 in /usr/local/lib/python3.11/dist-packages (from bleach[css]!=5.0.0->nbconvert) (6.2.0)\n",
            "Requirement already satisfied: defusedxml in /usr/local/lib/python3.11/dist-packages (from nbconvert) (0.7.1)\n",
            "Requirement already satisfied: jinja2>=3.0 in /usr/local/lib/python3.11/dist-packages (from nbconvert) (3.1.6)\n",
            "Requirement already satisfied: jupyterlab-pygments in /usr/local/lib/python3.11/dist-packages (from nbconvert) (0.3.0)\n",
            "Requirement already satisfied: markupsafe>=2.0 in /usr/local/lib/python3.11/dist-packages (from nbconvert) (3.0.2)\n",
            "Requirement already satisfied: mistune<4,>=2.0.3 in /usr/local/lib/python3.11/dist-packages (from nbconvert) (3.1.3)\n",
            "Requirement already satisfied: nbclient>=0.5.0 in /usr/local/lib/python3.11/dist-packages (from nbconvert) (0.10.2)\n",
            "Requirement already satisfied: packaging in /usr/local/lib/python3.11/dist-packages (from nbconvert) (24.2)\n",
            "Requirement already satisfied: pandocfilters>=1.4.1 in /usr/local/lib/python3.11/dist-packages (from nbconvert) (1.5.1)\n",
            "Requirement already satisfied: pygments>=2.4.1 in /usr/local/lib/python3.11/dist-packages (from nbconvert) (2.19.1)\n",
            "Requirement already satisfied: webencodings in /usr/local/lib/python3.11/dist-packages (from bleach!=5.0.0->bleach[css]!=5.0.0->nbconvert) (0.5.1)\n",
            "Requirement already satisfied: tinycss2<1.5,>=1.1.0 in /usr/local/lib/python3.11/dist-packages (from bleach[css]!=5.0.0->nbconvert) (1.4.0)\n",
            "Requirement already satisfied: attrs>=22.2.0 in /usr/local/lib/python3.11/dist-packages (from jsonschema>=2.6->nbformat) (25.3.0)\n",
            "Requirement already satisfied: jsonschema-specifications>=2023.03.6 in /usr/local/lib/python3.11/dist-packages (from jsonschema>=2.6->nbformat) (2025.4.1)\n",
            "Requirement already satisfied: referencing>=0.28.4 in /usr/local/lib/python3.11/dist-packages (from jsonschema>=2.6->nbformat) (0.36.2)\n",
            "Requirement already satisfied: rpds-py>=0.7.1 in /usr/local/lib/python3.11/dist-packages (from jsonschema>=2.6->nbformat) (0.24.0)\n",
            "Requirement already satisfied: platformdirs>=2.5 in /usr/local/lib/python3.11/dist-packages (from jupyter-core!=5.0.*,>=4.12->nbformat) (4.3.8)\n",
            "Requirement already satisfied: jupyter-client>=6.1.12 in /usr/local/lib/python3.11/dist-packages (from nbclient>=0.5.0->nbconvert) (6.1.12)\n",
            "Requirement already satisfied: soupsieve>1.2 in /usr/local/lib/python3.11/dist-packages (from beautifulsoup4->nbconvert) (2.7)\n",
            "Requirement already satisfied: typing-extensions>=4.0.0 in /usr/local/lib/python3.11/dist-packages (from beautifulsoup4->nbconvert) (4.13.2)\n",
            "Requirement already satisfied: pyzmq>=13 in /usr/local/lib/python3.11/dist-packages (from jupyter-client>=6.1.12->nbclient>=0.5.0->nbconvert) (24.0.1)\n",
            "Requirement already satisfied: python-dateutil>=2.1 in /usr/local/lib/python3.11/dist-packages (from jupyter-client>=6.1.12->nbclient>=0.5.0->nbconvert) (2.9.0.post0)\n",
            "Requirement already satisfied: tornado>=4.1 in /usr/local/lib/python3.11/dist-packages (from jupyter-client>=6.1.12->nbclient>=0.5.0->nbconvert) (6.4.2)\n",
            "Requirement already satisfied: six>=1.5 in /usr/local/lib/python3.11/dist-packages (from python-dateutil>=2.1->jupyter-client>=6.1.12->nbclient>=0.5.0->nbconvert) (1.17.0)\n"
          ]
        }
      ]
    },
    {
      "cell_type": "markdown",
      "source": [
        "## 💦🔥 **Normality test**\n",
        "\n",
        "1. **Small sample size (N<50)**, which is comparable to **Shapiro-Wilk** test on SPSS\n",
        "\n",
        "2. **Big sample size (N>50)**, which is comparable to **Kolmogorov-Smirnov** test on SPSS\n",
        "\n"
      ],
      "metadata": {
        "id": "NJ08d_uKSFuM"
      }
    },
    {
      "cell_type": "markdown",
      "source": [
        "# <font color = 'green'> **1️⃣  Small Sample Size (N < 50)**\n",
        "    - Be aware that the following script generates different results for everyone running it!"
      ],
      "metadata": {
        "id": "ORCNnHH_10vs"
      }
    },
    {
      "cell_type": "markdown",
      "source": [
        "## CTT (Critical Test Threshold)\n",
        "\n",
        "- The p-value represents the probability of observing the test statistic under the assumption that the null hypothesis is true. However, it doesn't provide information about the size of the effect or the practical significance of the result.\n",
        "\n",
        "- On the other hand, the critical test threshold (CTT) is the predetermined significance level (often denoted as alpha) at which you're willing to reject the null hypothesis. It is typically set to 0.05."
      ],
      "metadata": {
        "id": "NBV0cLff730W"
      }
    },
    {
      "cell_type": "markdown",
      "source": [
        "# <font color = 'green'> **1️⃣-1️⃣  Small Sample Size with Gaussian distribution (N < 50)**"
      ],
      "metadata": {
        "id": "l3WhCZYfbx8E"
      }
    },
    {
      "cell_type": "code",
      "execution_count": null,
      "metadata": {
        "id": "3454tysCMAaw",
        "colab": {
          "base_uri": "https://localhost:8080/"
        },
        "outputId": "db2353f5-6f11-4348-ff1f-796f84f69a37"
      },
      "outputs": [
        {
          "output_type": "stream",
          "name": "stdout",
          "text": [
            "[3.34763206 4.03635097 2.25641517 3.63718991 2.82046305 2.38698815\n",
            " 4.37363828 3.55031958 1.77688026 2.88916094 3.44349877 3.47895653\n",
            " 1.68408312 2.75202565 2.90376205 2.91834937 3.92049936 2.27448168\n",
            " 5.02093594 2.74030408 1.17279674 4.05860805 3.33384572 3.89356015\n",
            " 1.33079022 2.50994249 3.00722495 1.86452951 2.69151204 3.56973209\n",
            " 3.12193941 1.80954674 0.59075286 2.31337356 3.08807116 3.00747109\n",
            " 2.48872797 4.40158585 1.77740078 2.03601026]\n",
            "\n",
            "\n",
            "Full set of data points for Gaussian data:\n",
            "      Values\n",
            "0   3.347632\n",
            "1   4.036351\n",
            "2   2.256415\n",
            "3   3.637190\n",
            "4   2.820463\n",
            "5   2.386988\n",
            "6   4.373638\n",
            "7   3.550320\n",
            "8   1.776880\n",
            "9   2.889161\n",
            "10  3.443499\n",
            "11  3.478957\n",
            "12  1.684083\n",
            "13  2.752026\n",
            "14  2.903762\n",
            "15  2.918349\n",
            "16  3.920499\n",
            "17  2.274482\n",
            "18  5.020936\n",
            "19  2.740304\n",
            "20  1.172797\n",
            "21  4.058608\n",
            "22  3.333846\n",
            "23  3.893560\n",
            "24  1.330790\n",
            "25  2.509942\n",
            "26  3.007225\n",
            "27  1.864530\n",
            "28  2.691512\n",
            "29  3.569732\n",
            "30  3.121939\n",
            "31  1.809547\n",
            "32  0.590753\n",
            "33  2.313374\n",
            "34  3.088071\n",
            "35  3.007471\n",
            "36  2.488728\n",
            "37  4.401586\n",
            "38  1.777401\n",
            "39  2.036010\n",
            "\n",
            "\n",
            "Shapiro-Wilk Test Statistic: 0.995\n",
            "p-value: 0.9995904583762967\n",
            "Sample looks Gaussian (fail to reject H0)\n"
          ]
        }
      ],
      "source": [
        "import numpy as np # numeric calculation\n",
        "import pandas as pd # data analysis\n",
        "import seaborn as sns\n",
        "from scipy.stats import shapiro # stats\n",
        "\n",
        "# Generate a random dataset (replace this with your own data)\n",
        "# 🔔 The following code line generates random numbers from a normal (Gaussian) distribution using NumPy's random.normal function.\n",
        "# 🔔 loc=3, scale=1, size=40 (creating an array of 40 numbers drawn from a normal distribution with a mean (loc) of 3 and a standard deviation (scale) of 1.\n",
        "data_gaussian = np.random.normal(loc=3, scale=1, size=40)\n",
        "print(data_gaussian)\n",
        "print('\\n')\n",
        "\n",
        "# Convert the data to a pandas DataFrame\n",
        "df1 = pd.DataFrame(data_gaussian, columns=['Values'])\n",
        "print('Full set of data points for Gaussian data:')\n",
        "print(df1)\n",
        "print('\\n')\n",
        "\n",
        "# Save the DataFrame to a CSV file\n",
        "df1.to_csv('generated_data1.csv', index=True) # index=True for inncluding index\n",
        "\n",
        "# Perform Shapiro-Wilk test for normality\n",
        "# 🔔 Tuple unpacking: shapiro() function returns a tuple containing two values: the test statistic and the p-value.\n",
        "# By separating statistic and p_value with a comma, Python interprets the returned tuple and assigns each value to its corresponding variable.\n",
        "statistic, p_value = shapiro(data_gaussian)\n",
        "\n",
        "#Apply the round function for the test statistic (Optional)\n",
        "statistic = round(statistic, 3)\n",
        "\n",
        "# Print the test statistic and p-value\n",
        "print(\"Shapiro-Wilk Test Statistic:\", statistic)\n",
        "print(\"p-value:\", p_value)\n",
        "\n",
        "# Define the CTT (critical test threshold, aka., alpha)\n",
        "alpha = 0.05\n",
        "\n",
        "# Interpret the result\n",
        "if p_value > alpha:\n",
        "    print(\"Sample looks Gaussian (fail to reject H0)\")\n",
        "else:\n",
        "    print(\"Sample does not look Gaussian (reject H0)\")\n",
        "\n"
      ]
    },
    {
      "cell_type": "markdown",
      "source": [
        "# <font color = 'green'> **1️⃣-2️⃣  Small Sample Size with non-Gaussian distribution (N < 50)**"
      ],
      "metadata": {
        "id": "UkFMUyaacPeM"
      }
    },
    {
      "cell_type": "code",
      "source": [
        "import numpy as np\n",
        "import pandas as pd\n",
        "from scipy.stats import shapiro\n",
        "\n",
        "\n",
        "# Generate data from an exponential distribution\n",
        "data_non_gaussian = np.random.exponential(scale=1, size=40) #generates 50 data points from an exponential distribution with a mean of 3.\n",
        "\n",
        "\n",
        "# Perform Shapiro-Wilk test for normality\n",
        "statistic, p_value = shapiro(data_non_gaussian)\n",
        "print(data_non_gaussian)\n",
        "print('\\n')\n",
        "\n",
        "\n",
        "# Convert the data to a pandas DataFrame\n",
        "df2 = pd.DataFrame(data_non_gaussian, columns=['Values'])\n",
        "# Display the full set of data points\n",
        "print(\"Full set of data points for Non-Gaussian data:\")\n",
        "print(df2)\n",
        "print('\\n')\n",
        "\n",
        "# Save the DataFrame to a CSV file\n",
        "df2.to_csv('non_gaussian_data.csv', index=True)\n",
        "\n",
        "# Perform Shapiro-Wilk test for normality\n",
        "statistic, p_value = shapiro(data_non_gaussian)\n",
        "\n",
        "# Print the test statistic and p-value\n",
        "print(\"Shapiro-Wilk Test Statistic:\", statistic)\n",
        "print(\"p-value:\", p_value)\n",
        "\n",
        "# Define the CTT (critical test threshold, aka., alpha)\n",
        "alpha = 0.05\n",
        "\n",
        "# Interpret the result\n",
        "if p_value > alpha:\n",
        "    print(\"Sample looks Gaussian (fail to reject H0)\")\n",
        "else:\n",
        "    print(\"Sample does not look Gaussian (reject H0)\")"
      ],
      "metadata": {
        "id": "z512G3m37zmx",
        "outputId": "39ecd0b9-af79-4e91-dad1-2b27553772b3",
        "colab": {
          "base_uri": "https://localhost:8080/"
        }
      },
      "execution_count": null,
      "outputs": [
        {
          "output_type": "stream",
          "name": "stdout",
          "text": [
            "[0.25284984 0.42304094 4.5679969  2.96471533 2.6145404  1.0622536\n",
            " 2.43064914 0.7890471  0.44260964 2.93578407 0.20082617 1.16581296\n",
            " 1.31872497 1.14519205 0.42653653 0.06402115 4.41263769 1.86475543\n",
            " 0.04663572 0.10288176 0.63375728 2.89696895 0.17246687 0.14043188\n",
            " 1.99957689 1.48282084 0.33858646 0.81728397 0.13140882 1.295647\n",
            " 0.66114997 0.90192867 0.21369838 0.70623127 0.22097635 0.37782184\n",
            " 0.63636434 0.21630834 0.33621401 0.78772243]\n",
            "\n",
            "\n",
            "Full set of data points for Non-Gaussian data:\n",
            "      Values\n",
            "0   0.252850\n",
            "1   0.423041\n",
            "2   4.567997\n",
            "3   2.964715\n",
            "4   2.614540\n",
            "5   1.062254\n",
            "6   2.430649\n",
            "7   0.789047\n",
            "8   0.442610\n",
            "9   2.935784\n",
            "10  0.200826\n",
            "11  1.165813\n",
            "12  1.318725\n",
            "13  1.145192\n",
            "14  0.426537\n",
            "15  0.064021\n",
            "16  4.412638\n",
            "17  1.864755\n",
            "18  0.046636\n",
            "19  0.102882\n",
            "20  0.633757\n",
            "21  2.896969\n",
            "22  0.172467\n",
            "23  0.140432\n",
            "24  1.999577\n",
            "25  1.482821\n",
            "26  0.338586\n",
            "27  0.817284\n",
            "28  0.131409\n",
            "29  1.295647\n",
            "30  0.661150\n",
            "31  0.901929\n",
            "32  0.213698\n",
            "33  0.706231\n",
            "34  0.220976\n",
            "35  0.377822\n",
            "36  0.636364\n",
            "37  0.216308\n",
            "38  0.336214\n",
            "39  0.787722\n",
            "\n",
            "\n",
            "Shapiro-Wilk Test Statistic: 0.8022853994063195\n",
            "p-value: 7.562102503110996e-06\n",
            "Sample does not look Gaussian (reject H0)\n"
          ]
        }
      ]
    },
    {
      "cell_type": "markdown",
      "source": [
        "**e-0X in standard decimal notation is to move the decimal point X places to the left:**\n",
        "\n",
        "- **e.g., 6.4949947851358e-06 ➡️ 0.00000649**"
      ],
      "metadata": {
        "id": "sQ4W24gidVTZ"
      }
    },
    {
      "cell_type": "markdown",
      "source": [
        "# <font color = 'green'> **2️⃣ Big Sample Size (N > 50)**\n",
        "    Be aware that the following script generates different results for everyone running it!"
      ],
      "metadata": {
        "id": "K3wroDBt2Bhz"
      }
    },
    {
      "cell_type": "markdown",
      "source": [
        "# <font color = 'orange'> **2️⃣-1️⃣  Big Sample Size with Gaussian distribution (N > 50)**"
      ],
      "metadata": {
        "id": "vh2b-3sd0er1"
      }
    },
    {
      "cell_type": "code",
      "source": [
        "import numpy as np # numeric calculation\n",
        "import pandas as pd # data analysis\n",
        "import seaborn as sns\n",
        "from scipy.stats import kstest, norm # stats\n",
        "\n",
        "\n",
        "# Generate a random dataset (replace this with your own data)\n",
        "# loc=1, scale=0.5, size=100 (creating an array of 100 numbers drawn from a normal distribution with a mean (loc) of 1 and a standard deviation (scale) of 1.\n",
        "data_big_gaussian = np.random.normal(loc=1, scale=1, size=100)\n",
        "print(data_big_gaussian)\n",
        "print('\\n')\n",
        "\n",
        "# Convert the data to a pandas DataFrame\n",
        "df3 = pd.DataFrame(data_big_gaussian, columns=['Values'])\n",
        "print(df3)\n",
        "print('\\n')\n",
        "\n",
        "# Save the DataFrame to a CSV file\n",
        "df3.to_csv('GeneratedGaussianBigSampleData.csv', index=True)\n",
        "\n",
        "# 💊 Perform Kolmogorov-Smirnov test for normality ⤵️\n",
        "statistic, p_value = kstest(df3['Values'], 'norm', args=(df3['Values'].mean(), df3['Values'].std()))\n",
        "\n",
        "# Print the test statistic and p-value\n",
        "print(\"Kolmogorov-Smirnov Test Statistic:\", statistic)\n",
        "print(\"p-value:\", p_value)\n",
        "\n",
        "# Define the CTT (critical test threshold, aka., alpha)\n",
        "alpha = 0.05\n",
        "\n",
        "# Interpret the result\n",
        "if p_value > alpha:\n",
        "    print(\"Sample looks Gaussian (fail to reject H0)\")\n",
        "else:\n",
        "    print(\"Sample does not look Gaussian (reject H0)\")"
      ],
      "metadata": {
        "colab": {
          "base_uri": "https://localhost:8080/"
        },
        "id": "kB6j1egtTRx0",
        "outputId": "b2329d5b-2d0b-451c-afe2-78881acb58f4"
      },
      "execution_count": null,
      "outputs": [
        {
          "output_type": "stream",
          "name": "stdout",
          "text": [
            "[-4.93756039e-01 -5.30446559e-03  9.13718904e-01  1.86310958e+00\n",
            "  1.11892288e+00  1.32116356e+00  1.41811944e+00  1.27913390e+00\n",
            "  1.46161930e+00 -1.83655223e-01 -1.32113051e+00  9.80887457e-01\n",
            "  2.23966055e+00  1.39682030e-01  9.69533551e-01  6.08640504e-01\n",
            " -1.32804851e-01  1.53047064e+00  1.13767716e+00  5.33531149e-01\n",
            "  8.10971116e-01  2.15417948e+00  5.63301673e-01  8.01129827e-01\n",
            "  1.59615704e-02  7.28511464e-01  1.77144002e+00  1.65559292e+00\n",
            "  3.48859673e-01  1.66131268e+00 -4.25888661e-01 -4.95338652e-01\n",
            "  2.81678428e+00  1.45315593e+00  9.38391789e-01  6.79891741e-01\n",
            "  1.49975152e+00 -1.54869546e+00  2.44275369e-01  1.80697387e+00\n",
            "  9.79880228e-01  1.28824767e+00  3.75991714e-02  1.67462916e+00\n",
            "  6.29839859e-01  4.24024279e-01 -6.40316026e-01  4.91657017e-01\n",
            " -1.15269102e-01  2.20994501e-01  2.75496223e+00  1.36663561e-01\n",
            "  8.36604050e-02  2.04813890e-01  1.30649115e+00 -1.88326023e-01\n",
            "  1.39060795e+00 -2.45817651e+00  3.80151578e-02  2.27022914e+00\n",
            "  1.99866237e+00  9.61692359e-02  1.23805774e+00  1.51009006e+00\n",
            "  8.55249665e-01  7.32548425e-01  3.00823390e+00  1.63104820e+00\n",
            "  9.72865919e-01  1.90424417e+00 -2.00811604e-04  2.05904849e+00\n",
            "  5.74352761e-01  1.40172057e+00  2.57646289e-01  1.32724607e-01\n",
            "  5.55417159e-01  7.54371192e-01  9.81477831e-01 -9.01843910e-03\n",
            "  1.83769790e+00 -3.04587239e-01  1.40352728e+00  9.87522849e-01\n",
            "  5.34972824e-01 -1.65800162e-01  2.38384071e+00  1.92681119e+00\n",
            " -1.10333179e-01  9.10211882e-01  1.38402408e+00  3.38080417e-01\n",
            "  2.62446822e+00 -2.71789501e-01  1.26321073e+00  1.58113025e+00\n",
            "  1.39367295e+00  1.15086036e+00  4.59228627e-01  6.20126268e-01]\n",
            "\n",
            "\n",
            "      Values\n",
            "0  -0.493756\n",
            "1  -0.005304\n",
            "2   0.913719\n",
            "3   1.863110\n",
            "4   1.118923\n",
            "..       ...\n",
            "95  1.581130\n",
            "96  1.393673\n",
            "97  1.150860\n",
            "98  0.459229\n",
            "99  0.620126\n",
            "\n",
            "[100 rows x 1 columns]\n",
            "\n",
            "\n",
            "Kolmogorov-Smirnov Test Statistic: 0.0479074304704957\n",
            "p-value: 0.9673923635637113\n",
            "Sample looks Gaussian (fail to reject H0)\n"
          ]
        }
      ]
    },
    {
      "cell_type": "markdown",
      "source": [
        "💊 **statistic, p_value = kstest(df3['Values'], 'norm', args=(df3['Values'].mean(), df3['Values'].std()))**\n",
        "\n",
        "<font color = 'red'> **Arguments:**\n",
        "\n",
        "- <font color = 'red'> **df3['Values']**</font>: This is the data we want to test for normality. It is passed as the first argument to kstest().\n",
        "- <font color = 'red'> **'norm'**</font>: This specifies that we want to test the data against a normal distribution.\n",
        "- <font color = 'red'> **args=(df3['Values'].mean(), df3['Values'].std())**</font>: This argument allows us to pass additional parameters to the distribution function being tested against.\n",
        "    - Here, we're passing the mean (df3['Values'].mean()) and standard deviation (df3['Values'].std()) of the data as parameters to the normal distribution. This ensures that the K-S test is performed with the mean and standard deviation of our data as parameters for the normal distribution.\n",
        "\n",
        "**Output:**\n",
        "\n",
        "<font color = 'green'> The **kstest()** function returns two values: the _K-S test statistic (statistic)_ and the _p-value (p_value)_. These values are assigned to the variables statistic and p_value, respectively."
      ],
      "metadata": {
        "id": "iCZ-VFcBwkPR"
      }
    },
    {
      "cell_type": "markdown",
      "source": [
        "# <font color = 'orange'> **2️⃣-2️⃣ Big Sample Size with Non-Gaussian distribution (N > 50)**"
      ],
      "metadata": {
        "id": "aXb0N6620qEc"
      }
    },
    {
      "cell_type": "code",
      "source": [
        "import numpy as np # numeric calculation\n",
        "import pandas as pd # data analysis\n",
        "import seaborn as sns\n",
        "from scipy.stats import kstest, norm # stats\n",
        "\n",
        "\n",
        "# Generate data from an exponential distribution\n",
        "data_big_non_gaussian = np.random.exponential(scale=1, size=100) #generates 100 data points from an exponential distribution with a mean of 1.\n",
        "print(data_big_non_gaussian)\n",
        "print('\\n')\n",
        "\n",
        "# Convert the data to a pandas DataFrame\n",
        "df4 = pd.DataFrame(data_big_non_gaussian, columns=['Values'])\n",
        "print(df4)\n",
        "print('\\n')\n",
        "\n",
        "# Save the DataFrame to a CSV file\n",
        "df4.to_csv('GeneratedNonGaussianBigSampleData.csv', index=True)\n",
        "\n",
        "# 💊 Perform Kolmogorov-Smirnov test for normality ⤵️\n",
        "statistic, p_value = kstest(df4['Values'], 'norm', args=(df4['Values'].mean(), df3['Values'].std()))\n",
        "\n",
        "# Print the test statistic and p-value\n",
        "print(\"Kolmogorov-Smirnov Test Statistic:\", statistic)\n",
        "print(\"p-value:\", p_value)\n",
        "\n",
        "# Define the CTT (critical test threshold, aka., alpha)\n",
        "alpha = 0.05\n",
        "\n",
        "# Interpret the result\n",
        "if p_value > alpha:\n",
        "    print(\"Sample looks Gaussian (fail to reject H0)\")\n",
        "else:\n",
        "    print(\"Sample does not look Gaussian (reject H0)\")\n"
      ],
      "metadata": {
        "id": "5l_cALqUyqoX",
        "outputId": "199fda6f-51a8-48aa-abaf-7031aa2257c3",
        "colab": {
          "base_uri": "https://localhost:8080/"
        }
      },
      "execution_count": null,
      "outputs": [
        {
          "output_type": "stream",
          "name": "stdout",
          "text": [
            "[0.85953275 1.01265947 1.27819929 2.36048599 0.55474291 0.58862248\n",
            " 1.2035242  1.23646662 1.2637868  0.9552593  0.87304622 0.87323307\n",
            " 0.91403432 0.17631937 1.85365478 0.0974163  1.26178134 0.47355396\n",
            " 1.46390248 0.02737667 0.44580343 1.16307943 0.17876292 0.39913219\n",
            " 0.53631876 0.44589715 1.11210726 0.52229496 0.13169152 2.21830047\n",
            " 0.30119863 0.16527746 0.6957948  1.42273938 1.78057497 1.4166112\n",
            " 0.44112599 1.26683988 1.77012879 1.60679542 0.99736683 0.40482794\n",
            " 0.0610484  0.09097642 0.9250749  1.79271769 1.22370259 0.9562223\n",
            " 0.72436297 1.79845033 0.03378886 0.40803643 2.07073474 0.28631142\n",
            " 0.14335735 4.42523508 0.99193757 1.58213974 0.5475387  0.24845443\n",
            " 0.42477741 0.46164258 0.83832854 3.32393758 3.08198383 1.32908708\n",
            " 0.71710016 0.17870445 0.22264152 0.46350908 0.61006152 0.43974669\n",
            " 1.1234754  3.16172626 1.19798485 2.59549313 0.12788208 0.09592737\n",
            " 0.81378667 3.49780414 0.87843344 0.42885049 1.03429924 3.06261289\n",
            " 0.73465315 0.49877748 1.23187166 0.28289134 0.41340328 0.10539381\n",
            " 0.08800961 1.67531302 1.35016298 0.530945   0.86844511 0.64171745\n",
            " 0.68737621 1.7860265  0.3972884  0.29304598]\n",
            "\n",
            "\n",
            "      Values\n",
            "0   0.859533\n",
            "1   1.012659\n",
            "2   1.278199\n",
            "3   2.360486\n",
            "4   0.554743\n",
            "..       ...\n",
            "95  0.641717\n",
            "96  0.687376\n",
            "97  1.786027\n",
            "98  0.397288\n",
            "99  0.293046\n",
            "\n",
            "[100 rows x 1 columns]\n",
            "\n",
            "\n",
            "Kolmogorov-Smirnov Test Statistic: 0.1643923307063957\n",
            "p-value: 0.007883665392180725\n",
            "Sample does not look Gaussian (reject H0)\n"
          ]
        }
      ]
    },
    {
      "cell_type": "markdown",
      "source": [
        "## 💿 💿 3️⃣-1️⃣ When you use your csv. file (e.g., downloading from url or on your machine...)\n",
        "    Be aware that the following script generates the same result for everyone running it!"
      ],
      "metadata": {
        "id": "reXYftIwIjC0"
      }
    },
    {
      "cell_type": "code",
      "source": [
        "import urllib.request\n",
        "\n",
        "#🍎 URL of the CSV file\n",
        "url = 'https://raw.githubusercontent.com/ms624atyale/Data_NLP2024/main/GeneratedGaussianBigSampleData.csv'\n",
        "response = urllib.request.urlopen(url)\n",
        "content = response.read().decode('utf-8')\n",
        "print(content)\n",
        "\n",
        "# Read the CSV data from the URL into a pandas DataFrame\n",
        "df = pd.read_csv(url)\n",
        "\n",
        "# Specify the column name\n",
        "df_final = pd.DataFrame(df, columns=['Values'])\n",
        "print(df_final)\n",
        "print('\\n')\n",
        "\n",
        "# Save the DataFrame to a CSV file with index numbers\n",
        "df_final.to_csv('GeneratedGaussianBigSampleData.csv', index=True)\n",
        "\n",
        "\n",
        "#🍎 URL of the CSV file\n",
        "url2 = 'https://raw.githubusercontent.com/ms624atyale/Data_NLP2024/main/GeneratedNonGaussianBigSampleData.csv'\n",
        "response2 = urllib.request.urlopen(url2)\n",
        "content2 = response2.read().decode('utf-8')\n",
        "print(content2)\n",
        "\n",
        "# Read the CSV data from the URL into a pandas DataFrame\n",
        "df2 = pd.read_csv(url2)\n",
        "\n",
        "# Specify the column name\n",
        "df2_final = pd.DataFrame(df2, columns=['Values'])\n",
        "print(df2_final)\n",
        "print('\\n')\n",
        "\n",
        "# Save the DataFrame to a CSV file with index numbers\n",
        "df2_final.to_csv('GeneratedNonGaussianBigSampleData.csv', index=True)"
      ],
      "metadata": {
        "id": "wPHxUzL21lQr",
        "outputId": "bfb30ebc-1fb9-45e3-a22b-ed2d70bd83f9",
        "colab": {
          "base_uri": "https://localhost:8080/"
        },
        "collapsed": true
      },
      "execution_count": null,
      "outputs": [
        {
          "output_type": "stream",
          "name": "stdout",
          "text": [
            ",Values\n",
            "0,-0.3893019853247639\n",
            "1,1.826294124221361\n",
            "2,0.9764983106706722\n",
            "3,1.3207400509639244\n",
            "4,0.5466762954832244\n",
            "5,0.9644575186326361\n",
            "6,-0.4483219999240613\n",
            "7,1.2083703133773933\n",
            "8,0.8894323669115846\n",
            "9,0.12890820679317283\n",
            "10,-0.31767822174222604\n",
            "11,2.466791842791489\n",
            "12,0.9074786383682953\n",
            "13,-0.33001750421992715\n",
            "14,1.3409707813695975\n",
            "15,0.16481990599443264\n",
            "16,1.89496537948119\n",
            "17,0.30128476174907104\n",
            "18,0.7965825566157225\n",
            "19,2.976880987395285\n",
            "20,1.97433778701594\n",
            "21,1.0283020634732585\n",
            "22,3.2435112532667567\n",
            "23,-0.02326262393623768\n",
            "24,0.10989361989798607\n",
            "25,1.6515065297471363\n",
            "26,-1.2270846879300308\n",
            "27,0.7910330927681215\n",
            "28,0.4106595770571808\n",
            "29,0.7081703591397273\n",
            "30,0.34142116291210567\n",
            "31,0.8892932440724862\n",
            "32,-2.106996287691787\n",
            "33,0.7022301439146518\n",
            "34,2.7504425806440054\n",
            "35,0.49541967367931317\n",
            "36,1.6806387302727406\n",
            "37,2.7763176277505908\n",
            "38,0.4235075577002062\n",
            "39,0.911691243239547\n",
            "40,0.09359665891737723\n",
            "41,-0.7814132460038632\n",
            "42,-0.3920799757656994\n",
            "43,2.019729113770459\n",
            "44,-0.09363975639257194\n",
            "45,0.6259193075478388\n",
            "46,1.0543580290786605\n",
            "47,0.8980353789249669\n",
            "48,2.6593030222452683\n",
            "49,3.2060285076561432\n",
            "50,0.5602273077543851\n",
            "51,0.777107690181003\n",
            "52,0.6810008313417728\n",
            "53,1.8923012834270105\n",
            "54,1.2260485692565022\n",
            "55,1.0749295550653142\n",
            "56,0.1297638363637975\n",
            "57,1.965611644981486\n",
            "58,2.773478532558477\n",
            "59,1.4487001703228195\n",
            "60,-0.9534714349849955\n",
            "61,0.31472825379247926\n",
            "62,1.9831530171519725\n",
            "63,1.1218235341321765\n",
            "64,1.7470646233141303\n",
            "65,1.7639791710440318\n",
            "66,-0.08975606545530557\n",
            "67,0.6894053612464286\n",
            "68,2.83971606718943\n",
            "69,1.1559051517116279\n",
            "70,1.1709152775857692\n",
            "71,-0.039840767941963895\n",
            "72,1.1099456418598872\n",
            "73,0.12177196230361176\n",
            "74,-0.16225591897082126\n",
            "75,2.2670203114303913\n",
            "76,0.3210706574324478\n",
            "77,1.0775097608731712\n",
            "78,1.2712196931794448\n",
            "79,0.10948094263647201\n",
            "80,1.3571246563953898\n",
            "81,-0.9768912768640365\n",
            "82,1.5861202393784035\n",
            "83,1.4284937665421398\n",
            "84,0.7443387391335902\n",
            "85,-0.27792720934706017\n",
            "86,-0.3771769543554895\n",
            "87,1.3463300899351065\n",
            "88,1.3079622138262077\n",
            "89,-0.5982654740145164\n",
            "90,-0.4515902284947362\n",
            "91,2.0490257233571967\n",
            "92,2.0678683562595537\n",
            "93,2.5819473553142593\n",
            "94,-0.001554169380313164\n",
            "95,1.3200730469653013\n",
            "96,-0.9003854698142157\n",
            "97,1.7358612239374531\n",
            "98,1.9802176477128541\n",
            "99,-0.48910662140812633\n",
            "\n",
            "      Values\n",
            "0  -0.389302\n",
            "1   1.826294\n",
            "2   0.976498\n",
            "3   1.320740\n",
            "4   0.546676\n",
            "..       ...\n",
            "95  1.320073\n",
            "96 -0.900385\n",
            "97  1.735861\n",
            "98  1.980218\n",
            "99 -0.489107\n",
            "\n",
            "[100 rows x 1 columns]\n",
            "\n",
            "\n",
            ",Values\n",
            "0,0.8046249101789011\n",
            "1,0.7682633952778323\n",
            "2,2.29079474852387\n",
            "3,2.43049129356199\n",
            "4,0.22989047327431966\n",
            "5,1.2695775219688306\n",
            "6,1.5502049192934948\n",
            "7,0.6787202219323324\n",
            "8,0.22117171942820463\n",
            "9,2.9517509864784737\n",
            "10,0.12052944227476772\n",
            "11,1.064955819442374\n",
            "12,0.30848186348640205\n",
            "13,0.06518881425631175\n",
            "14,0.18957383843154857\n",
            "15,1.9881311940832913\n",
            "16,0.027475817727749964\n",
            "17,0.668198401809793\n",
            "18,1.643372192477434\n",
            "19,0.6661320348586599\n",
            "20,0.4858621499396462\n",
            "21,1.497146846535357\n",
            "22,0.3397411725832874\n",
            "23,1.3136729958663007\n",
            "24,0.015315767203609141\n",
            "25,1.050296600560083\n",
            "26,0.07351300447309597\n",
            "27,0.18903031133842235\n",
            "28,1.8528409942704889\n",
            "29,0.8045627817552868\n",
            "30,1.1385038247356605\n",
            "31,0.7504151240901326\n",
            "32,2.843288301004686\n",
            "33,0.43152688554688545\n",
            "34,2.1104081028531496\n",
            "35,1.296439563374763\n",
            "36,0.20905245998725341\n",
            "37,0.14050027016518182\n",
            "38,0.09064639394496869\n",
            "39,3.2505938541435437\n",
            "40,1.0146369290543638\n",
            "41,0.37740653545723485\n",
            "42,0.6658700571994811\n",
            "43,0.17384330553636212\n",
            "44,0.08471930073362877\n",
            "45,0.6996237390820352\n",
            "46,0.5031787303407206\n",
            "47,0.056950899968815596\n",
            "48,0.746172369893011\n",
            "49,2.270674455937503\n",
            "50,1.5220228395388342\n",
            "51,0.7409241785656789\n",
            "52,1.392641044033556\n",
            "53,0.6133897428364232\n",
            "54,1.8222528841159946\n",
            "55,0.7028728207234378\n",
            "56,0.583173043687956\n",
            "57,0.741183279437999\n",
            "58,0.874039957266335\n",
            "59,0.6086829433739334\n",
            "60,2.2561442457145766\n",
            "61,0.3486121366360994\n",
            "62,0.16278232521963543\n",
            "63,1.5622889131749889\n",
            "64,1.6813498213224776\n",
            "65,0.43074391889200886\n",
            "66,1.2299039598189296\n",
            "67,0.918776495245721\n",
            "68,1.9135035998546084\n",
            "69,0.3038096382794121\n",
            "70,0.6077458951181605\n",
            "71,0.16669640845069214\n",
            "72,0.04360223185182008\n",
            "73,0.9152974382586234\n",
            "74,0.8849766575036361\n",
            "75,0.41009681507559825\n",
            "76,0.0726671925679987\n",
            "77,0.6161972422991362\n",
            "78,0.36970606739497053\n",
            "79,0.6045644094909686\n",
            "80,0.18877393449612728\n",
            "81,1.8921145295290784\n",
            "82,0.9676021807850521\n",
            "83,0.17156003991507154\n",
            "84,0.055925456769043834\n",
            "85,1.402531334660634\n",
            "86,0.7657016904045993\n",
            "87,0.6059239447500606\n",
            "88,1.186902878676455\n",
            "89,0.7019008280669858\n",
            "90,0.6331591785822229\n",
            "91,0.4775404350251007\n",
            "92,2.48455469337317\n",
            "93,1.9651302735080403\n",
            "94,1.540384674007286\n",
            "95,2.597039146069859\n",
            "96,1.0474283384986214\n",
            "97,0.6350619890107608\n",
            "98,2.0106801389565137\n",
            "99,0.7457131414776356\n",
            "\n",
            "      Values\n",
            "0   0.804625\n",
            "1   0.768263\n",
            "2   2.290795\n",
            "3   2.430491\n",
            "4   0.229890\n",
            "..       ...\n",
            "95  2.597039\n",
            "96  1.047428\n",
            "97  0.635062\n",
            "98  2.010680\n",
            "99  0.745713\n",
            "\n",
            "[100 rows x 1 columns]\n",
            "\n",
            "\n"
          ]
        }
      ]
    },
    {
      "cell_type": "markdown",
      "source": [
        "#📊 **Gaussian Distribution Graph** using an uploaded file"
      ],
      "metadata": {
        "id": "1P-LDKW6YTpX"
      }
    },
    {
      "cell_type": "code",
      "source": [
        "import numpy as np\n",
        "import pandas as pd\n",
        "import matplotlib.pyplot as plt\n",
        "from scipy.stats import kstest, norm\n",
        "\n",
        "# Load the data from the CSV file\n",
        "data5_gaussian = pd.read_csv('/content/GeneratedGaussianBigSampleData.csv')\n",
        "df5 = data5_gaussian['Values']  # Extract the column containing the data\n",
        "\n",
        "# Perform Kolmogorov-Smirnov test for normality\n",
        "statistic, p_value = kstest(df5, 'norm')\n",
        "\n",
        "# 💊 The following codeline for Kolmogorov-Smirnov test for normality does not work... ⤵️\n",
        "#statistic, p_value = kstest(df5['Values'], 'norm', args=(df5['Values'].mean(), df5['Values'].std()))\n",
        "\n",
        "# Print the test statistic and p-value\n",
        "print(\"Kolmogorov-Smirnov Test Statistic:\", statistic)\n",
        "print(\"p-value:\", p_value)\n",
        "\n",
        "# Define the CTT (critical test threshold, aka., alpha)\n",
        "alpha = 0.05\n",
        "\n",
        "# Interpret the result\n",
        "if p_value > alpha:\n",
        "    print(\"Sample looks Gaussian (fail to reject H0)\")\n",
        "else:\n",
        "    print(\"Sample does not look Gaussian (reject H0)\")\n",
        "\n",
        "# Plot histogram of the data\n",
        "plt.figure(figsize=(10, 6))\n",
        "sns.histplot(df5, kde=True, color='yellow', stat='density')\n",
        "\n",
        "# Plot normal distribution curve\n",
        "mu, sigma = np.mean(df5), np.std(df5)\n",
        "x = np.linspace(mu - 3*sigma, mu + 3*sigma, 100)\n",
        "plt.plot(x, norm.pdf(x, mu, sigma), 'r-', label='Normal Distribution')\n",
        "\n",
        "plt.xlabel('Data')\n",
        "plt.ylabel('Density')\n",
        "plt.title('Histogram of Data with Normal Distribution')\n",
        "plt.legend()\n",
        "plt.show()"
      ],
      "metadata": {
        "colab": {
          "base_uri": "https://localhost:8080/",
          "height": 616
        },
        "id": "Z9qyDf725sgH",
        "outputId": "cd6c614c-05d8-4fdb-d338-c4809bac0451"
      },
      "execution_count": null,
      "outputs": [
        {
          "output_type": "stream",
          "name": "stdout",
          "text": [
            "Kolmogorov-Smirnov Test Statistic: 0.362064517801998\n",
            "p-value: 2.9900178835171845e-12\n",
            "Sample does not look Gaussian (reject H0)\n"
          ]
        },
        {
          "output_type": "display_data",
          "data": {
            "text/plain": [
              "<Figure size 1000x600 with 1 Axes>"
            ],
            "image/png": "[encoded data removed]"
          },
          "metadata": {}
        }
      ]
    },
    {
      "cell_type": "markdown",
      "source": [
        "## 💿 💿 3️⃣-2️⃣ When you use your csv. file...\n",
        "    Be aware that the following script generates the same result for everyone running it!"
      ],
      "metadata": {
        "id": "Vi2ohS-YZTMm"
      }
    },
    {
      "cell_type": "markdown",
      "source": [
        "#📊 **Non-Gaussian Distribution Graph** using an uploaded file"
      ],
      "metadata": {
        "id": "1imQ_aEFY2Pe"
      }
    },
    {
      "cell_type": "code",
      "source": [
        "import numpy as np\n",
        "import pandas as pd\n",
        "from scipy.stats import shapiro\n",
        "\n",
        "import matplotlib.pyplot as plt\n",
        "from scipy.stats import kstest, norm, expon\n",
        "import seaborn as sns\n",
        "\n",
        "# Load the data from the CSV file\n",
        "data6_non_gaussian = pd.read_csv('/content/GeneratedNonGaussianBigSampleData.csv')\n",
        "df6 = data6_non_gaussian['Values']  # Extract the column containing the data\n",
        "\n",
        "# Convert the data to a pandas DataFrame\n",
        "df6 = pd.DataFrame(df6, columns=['Values'])\n",
        "\n",
        "# 💊 Perform Kolmogorov-Smirnov test for normality ⤵️\n",
        "statistic, p_value = kstest(df6['Values'], 'norm', args=(df6['Values'].mean(), df6['Values'].std()))\n",
        "\n",
        "# Print the test statistic and p-value\n",
        "print(\"Kolmogorov-Smirnov Test Statistic:\", statistic)\n",
        "print(\"p-value:\", p_value)\n",
        "\n",
        "# Define the CTT (critical test threshold, aka., alpha)\n",
        "alpha = 0.05\n",
        "\n",
        "# Interpret the result\n",
        "if p_value > alpha:\n",
        "    print(\"Sample looks Gaussian (fail to reject H0)\")\n",
        "else:\n",
        "    print(\"Sample does not look Gaussian (reject H0)\")\n",
        "\n",
        "# Display the full set of data points\n",
        "print(\"Full set of data points:\")\n",
        "print(df6)\n",
        "\n",
        "# Plot histogram of the data\n",
        "plt.figure(figsize=(10, 6))\n",
        "sns.histplot(df6, kde=True, color='skyblue', stat='density')\n",
        "\n",
        "# Plot exponential distribution curve (💊 Caution: Code lines for plotting Normal distribution curve is different!)\n",
        "scale = 1  # Exponential distribution scale parameter (mean) gives a standard exponential distribution with a mean of 1.\n",
        "# scale = 1 (Lambda = 1) is a common default because it simplifies the mathematics and is often used when the specific rate is not critical to the problem at hand.\n",
        "x = np.linspace(0, df6['Values'].max(), 100)\n",
        "plt.plot(x, expon.pdf(x, scale=scale), 'r-', label='Exponential Distribution')\n",
        "\n",
        "plt.xlabel('Data')\n",
        "plt.ylabel('Density')\n",
        "plt.title('Histogram of Data without Normal Distribution')\n",
        "plt.legend()\n",
        "plt.show()"
      ],
      "metadata": {
        "id": "0dnk1Z_lT2zZ",
        "outputId": "bb72b3df-e976-42da-f9d8-9d12aa013484",
        "colab": {
          "base_uri": "https://localhost:8080/",
          "height": 876
        }
      },
      "execution_count": null,
      "outputs": [
        {
          "output_type": "stream",
          "name": "stdout",
          "text": [
            "Kolmogorov-Smirnov Test Statistic: 0.15828709378215222\n",
            "p-value: 0.011783742262732044\n",
            "Sample does not look Gaussian (reject H0)\n",
            "Full set of data points:\n",
            "      Values\n",
            "0   0.804625\n",
            "1   0.768263\n",
            "2   2.290795\n",
            "3   2.430491\n",
            "4   0.229890\n",
            "..       ...\n",
            "95  2.597039\n",
            "96  1.047428\n",
            "97  0.635062\n",
            "98  2.010680\n",
            "99  0.745713\n",
            "\n",
            "[100 rows x 1 columns]\n"
          ]
        },
        {
          "output_type": "display_data",
          "data": {
            "text/plain": [
              "<Figure size 1000x600 with 1 Axes>"
            ],
            "image/png": "[encoded data removed]"
          },
          "metadata": {}
        }
      ]
    },
    {
      "cell_type": "markdown",
      "source": [
        "## ➡️ T-test (with either SW test or KS test, p>0.05)\n",
        "## ➡️➡️ Wilcoxon Rank Sum text (with either SW test or KS test, p<0.05)"
      ],
      "metadata": {
        "id": "P3pOREs73Bnf"
      }
    }
  ]
}