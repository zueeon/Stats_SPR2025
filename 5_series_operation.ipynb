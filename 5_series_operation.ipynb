{
  "nbformat": 4,
  "nbformat_minor": 0,
  "metadata": {
    "colab": {
      "provenance": [],
      "include_colab_link": true
    },
    "kernelspec": {
      "name": "python3",
      "display_name": "Python 3"
    },
    "language_info": {
      "name": "python"
    }
  },
  "cells": [
    {
      "cell_type": "markdown",
      "metadata": {
        "id": "view-in-github",
        "colab_type": "text"
      },
      "source": [
        "<a href=\"https://colab.research.google.com/github/zueeon/Stats_SPR2025/blob/main/5_series_operation.ipynb\" target=\"_parent\"><img src=\"https://colab.research.google.com/assets/colab-badge.svg\" alt=\"Open In Colab\"/></a>"
      ]
    },
    {
      "cell_type": "markdown",
      "source": [
        "### 🐹  1️⃣ Pandas Series Operation 판다스 시리즈 연산\n",
        "- 사전데이터를 판다스 시리즈데이터로 만들기"
      ],
      "metadata": {
        "id": "nWW_bumBhYUX"
      }
    },
    {
      "cell_type": "code",
      "execution_count": null,
      "metadata": {
        "colab": {
          "base_uri": "https://localhost:8080/"
        },
        "id": "p-Apx75UhWFH",
        "outputId": "9614947f-bdaf-4799-97e6-ef81eb2a9e5c"
      },
      "outputs": [
        {
          "output_type": "stream",
          "name": "stdout",
          "text": [
            "Literature    100\n",
            "English        80\n",
            "Math           90\n",
            "dtype: object\n",
            "\n",
            "\n",
            "Literature    100.0\n",
            "English        80.0\n",
            "Math           90.0\n",
            "dtype: float64\n",
            "\n",
            "\n",
            "Literature    0.50\n",
            "English       0.40\n",
            "Math          0.45\n",
            "dtype: float64\n",
            "\n",
            "\n",
            "<class 'pandas.core.series.Series'>\n"
          ]
        }
      ],
      "source": [
        "import pandas as pd\n",
        "student1 = pd.Series({'Literature':100, 'English':'80', 'Math':90})\n",
        "print(student1)\n",
        "print('\\n')\n",
        "\n",
        "#student1 = pd.to_numeric(student1)  # Convert values to numeric data type, >> or >> student1 = student1.astype(int) to convert values to integer data type, or >> student1 = student1.astype(float) to convert values to float data type\n",
        "student1 = student1.astype(float)\n",
        "print(student1)\n",
        "print('\\n')\n",
        "\n",
        "percentage = student1/200\n",
        "print(percentage)\n",
        "print('\\n')\n",
        "print(type(percentage))"
      ]
    },
    {
      "cell_type": "code",
      "source": [
        "import pandas as pd\n",
        "student1 = pd.Series({'Literature':100, 'English':80, 'Math':90})\n",
        "print(student1)\n",
        "print('\\n')\n",
        "\n",
        "#student1 = pd.to_numeric(student1)  # Convert values to numeric data type, >> or >> student1 = student1.astype(int) to convert values to integer data type, or >> student1 = student1.astype(float) to convert values to float data type\n",
        "student1 = student1.astype(int)\n",
        "print(student1)\n",
        "print('\\n')\n",
        "\n",
        "percentage = student1/200\n",
        "print(percentage)\n",
        "print('\\n')\n",
        "print(type(percentage))"
      ],
      "metadata": {
        "id": "eBNwROaDIyYn",
        "outputId": "7be17f08-83e1-4e5a-9921-64cecaabfe4b",
        "colab": {
          "base_uri": "https://localhost:8080/"
        }
      },
      "execution_count": null,
      "outputs": [
        {
          "output_type": "stream",
          "name": "stdout",
          "text": [
            "Literature    100\n",
            "English        80\n",
            "Math           90\n",
            "dtype: int64\n",
            "\n",
            "\n",
            "Literature    100\n",
            "English        80\n",
            "Math           90\n",
            "dtype: int64\n",
            "\n",
            "\n",
            "Literature    0.50\n",
            "English       0.40\n",
            "Math          0.45\n",
            "dtype: float64\n",
            "\n",
            "\n",
            "<class 'pandas.core.series.Series'>\n"
          ]
        }
      ]
    },
    {
      "cell_type": "markdown",
      "source": [
        "### 🐹 2️⃣ Pandas Series vs. Series\n",
        "- 시리즈오 시리즈 사이에 사칙연산 (e.g., addition, subtraction, multiplication, division)을 처리하는 방법\n",
        "- <font color = 'red'> **Series1 +/-/*// Sereis2 = Series3**"
      ],
      "metadata": {
        "id": "hR-8xXcURlgy"
      }
    },
    {
      "cell_type": "code",
      "source": [
        "import pandas as pd\n",
        "\n",
        "student1 = pd.Series({'English':100, 'Literature':90, 'Math':98})\n",
        "student2 = pd.Series({'Literature':78, 'Math':90, 'English':80})\n",
        "print(student1)\n",
        "print('\\n')\n",
        "print(student2)\n",
        "print('\\n')\n",
        "\n",
        "#두 학생의 점수로 사칙연산 수행 해 보기. The method, astype(int), safely converts values (e.g., elements of Series or DataFrame) to integer data.\n",
        "\n",
        "#student1 = student1.astype(int)\n",
        "#student2 = student2.astype(int)\n",
        "\n",
        "addition = student1 + student2\n",
        "print(addition)\n",
        "print('\\n')\n",
        "\n",
        "subtraction = student1-student2\n",
        "print(subtraction)\n",
        "print('\\n')\n",
        "\n",
        "multiplication = student1*student2\n",
        "print(multiplication)\n",
        "print('\\n')\n",
        "\n",
        "division = student1/student2\n",
        "print(division)\n",
        "print('\\n')\n"
      ],
      "metadata": {
        "colab": {
          "base_uri": "https://localhost:8080/"
        },
        "id": "31M-Rv74RiS2",
        "outputId": "979d7715-92fa-495d-8190-dae89154f3fe"
      },
      "execution_count": null,
      "outputs": [
        {
          "output_type": "stream",
          "name": "stdout",
          "text": [
            "English       100\n",
            "Literature     90\n",
            "Math           98\n",
            "dtype: int64\n",
            "\n",
            "\n",
            "Literature    78\n",
            "Math          90\n",
            "English       80\n",
            "dtype: int64\n",
            "\n",
            "\n",
            "English       180\n",
            "Literature    168\n",
            "Math          188\n",
            "dtype: int64\n",
            "\n",
            "\n",
            "English       20\n",
            "Literature    12\n",
            "Math           8\n",
            "dtype: int64\n",
            "\n",
            "\n",
            "English       8000\n",
            "Literature    7020\n",
            "Math          8820\n",
            "dtype: int64\n",
            "\n",
            "\n",
            "English       1.250000\n",
            "Literature    1.153846\n",
            "Math          1.088889\n",
            "dtype: float64\n",
            "\n",
            "\n"
          ]
        }
      ]
    },
    {
      "cell_type": "markdown",
      "source": [
        "### 💣 💊 **Code below:**\n",
        "\n",
        "The first argument, result1, is already a DataFrame, not a list of Series. So when you pass it again to pd.DataFrame(), pandas assumes you're trying to rebuild a DataFrame from the columns of an existing DataFrame. This leads to confusion and misalignment, especially since you're assigning new row labels (index = [...]) but not providing new row data."
      ],
      "metadata": {
        "id": "cR3aHMR36G3z"
      }
    },
    {
      "cell_type": "code",
      "source": [
        "#continued from the cell above\n",
        "\n",
        "result1 = pd.DataFrame([addition, subtraction, multiplication, division])\n",
        "print(result1)\n",
        "print('\\n')\n",
        "\n",
        "result2 = pd.DataFrame(result1, index = ['addition +', 'subtraction -', 'multiplication *', 'division /'])\n",
        "print(result2)\n",
        "print('\\n')\n",
        "\n",
        "result3 = pd.DataFrame([addition, subtraction, multiplication, division], index = ['addition +', 'subtraction -', 'multiplication *', 'division /'])\n",
        "print(result3)"
      ],
      "metadata": {
        "colab": {
          "base_uri": "https://localhost:8080/"
        },
        "id": "M9VQR_E04o9j",
        "outputId": "f7d8dd8b-cc46-4ef1-9222-b7977da95ced"
      },
      "execution_count": null,
      "outputs": [
        {
          "output_type": "stream",
          "name": "stdout",
          "text": [
            "   English   Literature         Math\n",
            "0   180.00   168.000000   188.000000\n",
            "1    20.00    12.000000     8.000000\n",
            "2  8000.00  7020.000000  8820.000000\n",
            "3     1.25     1.153846     1.088889\n",
            "\n",
            "\n",
            "                  English  Literature  Math\n",
            "addition +            NaN         NaN   NaN\n",
            "subtraction -         NaN         NaN   NaN\n",
            "multiplication *      NaN         NaN   NaN\n",
            "division /            NaN         NaN   NaN\n",
            "\n",
            "\n",
            "                  English   Literature         Math\n",
            "addition +         180.00   168.000000   188.000000\n",
            "subtraction -       20.00    12.000000     8.000000\n",
            "multiplication *  8000.00  7020.000000  8820.000000\n",
            "division /           1.25     1.153846     1.088889\n"
          ]
        }
      ]
    },
    {
      "cell_type": "code",
      "source": [
        "import pandas as pd\n",
        "\n",
        "student1 = pd.Series({'English':100, 'Literature':90, 'Math':98})\n",
        "student2 = pd.Series({'Literature':78, 'Math':90, 'English':80})\n",
        "\n",
        "student1 = student1.astype(int)\n",
        "student2 = student2.astype(int)\n",
        "\n",
        "add = student1 + student2\n",
        "\n",
        "sub = student1-student2\n",
        "\n",
        "multi = student1*student2\n",
        "\n",
        "div = student1/student2\n",
        "\n",
        "result1 = pd.DataFrame([add, sub, multi, div])\n",
        "print(result1)\n",
        "print('\\n')\n",
        "\n",
        "rounded_result1 = round(result1, 2)\n",
        "print(rounded_result1)\n",
        "print('\\n')\n",
        "\n",
        "result2 = pd.DataFrame([add, sub, multi, div], index = ['add+', 'sub-', 'mul*', 'div/'])\n",
        "print(result2)\n",
        "print('\\n')\n",
        "\n",
        "rounded_result2 = round(result1, 1)\n",
        "print(rounded_result2)\n",
        "print('\\n')\n",
        "\n",
        "result3 = pd.DataFrame(rounded_result2, index = ['add+', 'sub-', 'mul*', 'div/'])\n",
        "print(result3)"
      ],
      "metadata": {
        "colab": {
          "base_uri": "https://localhost:8080/"
        },
        "id": "3QD1vM5iWBqr",
        "outputId": "0735dc89-29e8-4e83-8c91-797fd52dcd8f"
      },
      "execution_count": null,
      "outputs": [
        {
          "output_type": "stream",
          "name": "stdout",
          "text": [
            "   English   Literature         Math\n",
            "0   180.00   168.000000   188.000000\n",
            "1    20.00    12.000000     8.000000\n",
            "2  8000.00  7020.000000  8820.000000\n",
            "3     1.25     1.153846     1.088889\n",
            "\n",
            "\n",
            "   English  Literature     Math\n",
            "0   180.00      168.00   188.00\n",
            "1    20.00       12.00     8.00\n",
            "2  8000.00     7020.00  8820.00\n",
            "3     1.25        1.15     1.09\n",
            "\n",
            "\n",
            "      English   Literature         Math\n",
            "add+   180.00   168.000000   188.000000\n",
            "sub-    20.00    12.000000     8.000000\n",
            "mul*  8000.00  7020.000000  8820.000000\n",
            "div/     1.25     1.153846     1.088889\n",
            "\n",
            "\n",
            "   English  Literature    Math\n",
            "0    180.0       168.0   188.0\n",
            "1     20.0        12.0     8.0\n",
            "2   8000.0      7020.0  8820.0\n",
            "3      1.2         1.2     1.1\n",
            "\n",
            "\n",
            "      English  Literature  Math\n",
            "add+      NaN         NaN   NaN\n",
            "sub-      NaN         NaN   NaN\n",
            "mul*      NaN         NaN   NaN\n",
            "div/      NaN         NaN   NaN\n"
          ]
        }
      ]
    },
    {
      "cell_type": "code",
      "source": [
        "import pandas as pd\n",
        "\n",
        "student1 = pd.Series({'English':100, 'Literature':90, 'Math':98})\n",
        "student2 = pd.Series({'Literature':78, 'Math':90, 'English':80})\n",
        "\n",
        "#두 학생의 점수로 사칙연산 수행 해 보기. The method, astype(int), safely converts values (e.g., elements of Series or DataFrame) to integer data.\n",
        "\n",
        "student1 = student1.astype(int)\n",
        "student2 = student2.astype(int)\n",
        "\n",
        "add = student1 + student2\n",
        "\n",
        "sub = student1-student2\n",
        "\n",
        "multi = student1*student2\n",
        "\n",
        "div = student1/student2\n",
        "\n",
        "result1 = pd.DataFrame([add, sub, multi, div])\n",
        "print(result1)\n",
        "print('\\n')\n",
        "\n",
        "rounded_result1 = round(result1, 2)\n",
        "print(rounded_result1)\n",
        "print('\\n')\n",
        "\n",
        "result2 = pd.DataFrame([add, sub, multi, div], index = ['add+', 'sub-', 'mul*', 'div/'])\n",
        "print(result2)\n",
        "print('\\n')\n",
        "\n",
        "rounded_result2 = round(result1, 1)\n",
        "print(rounded_result2)\n",
        "print('\\n')\n",
        "\n",
        "#💣 problmatic again due to rounded_result2 argument as a dataframe\n",
        "result3 = pd.DataFrame(rounded_result2, index = ['add+', 'sub-', 'mul*', 'div/'])\n",
        "print(result3)"
      ],
      "metadata": {
        "id": "-EsmMuO2KsCn",
        "outputId": "e1f245f8-a74b-400e-e9ff-a38094cf8543",
        "colab": {
          "base_uri": "https://localhost:8080/"
        }
      },
      "execution_count": null,
      "outputs": [
        {
          "output_type": "stream",
          "name": "stdout",
          "text": [
            "   English   Literature         Math\n",
            "0   180.00   168.000000   188.000000\n",
            "1    20.00    12.000000     8.000000\n",
            "2  8000.00  7020.000000  8820.000000\n",
            "3     1.25     1.153846     1.088889\n",
            "\n",
            "\n",
            "   English  Literature     Math\n",
            "0   180.00      168.00   188.00\n",
            "1    20.00       12.00     8.00\n",
            "2  8000.00     7020.00  8820.00\n",
            "3     1.25        1.15     1.09\n",
            "\n",
            "\n",
            "      English   Literature         Math\n",
            "add+   180.00   168.000000   188.000000\n",
            "sub-    20.00    12.000000     8.000000\n",
            "mul*  8000.00  7020.000000  8820.000000\n",
            "div/     1.25     1.153846     1.088889\n",
            "\n",
            "\n",
            "   English  Literature    Math\n",
            "0    180.0       168.0   188.0\n",
            "1     20.0        12.0     8.0\n",
            "2   8000.0      7020.0  8820.0\n",
            "3      1.2         1.2     1.1\n",
            "\n",
            "\n",
            "      English  Literature  Math\n",
            "add+      NaN         NaN   NaN\n",
            "sub-      NaN         NaN   NaN\n",
            "mul*      NaN         NaN   NaN\n",
            "div/      NaN         NaN   NaN\n"
          ]
        }
      ]
    },
    {
      "cell_type": "markdown",
      "source": [
        "## 💊 **Student Activity: Fix NaN (Not a Number)** ⤵️"
      ],
      "metadata": {
        "id": "e7D9fGz0-1zt"
      }
    },
    {
      "cell_type": "code",
      "source": [
        "#@markdown <font color = 'red'> **💊 Student Activity: Fix NaN (Not a Number)**\n",
        "\n",
        "import pandas as pd\n",
        "\n",
        "student1 = pd.Series({'English':100, 'Literature':90, 'Math':98})\n",
        "student2 = pd.Series({'Literature':78, 'Math':90, 'English':80})\n",
        "\n",
        "student1 = student1.astype(int)\n",
        "student2 = student2.astype(int)\n",
        "\n",
        "add = student1 + student2\n",
        "sub = student1 - student2\n",
        "multi = student1 * student2\n",
        "div = student1 / student2\n",
        "\n",
        "result1 = pd.DataFrame([add, sub, multi, div])\n",
        "rounded_result1 = round(result1, 2)\n",
        "\n",
        "# Assigning meaningful row names directly\n",
        "rounded_result1.index = ['add+', 'sub-', 'mul*', 'div/']\n",
        "print(rounded_result1)"
      ],
      "metadata": {
        "cellView": "form",
        "colab": {
          "base_uri": "https://localhost:8080/"
        },
        "id": "_5O9Ncac-Mo1",
        "outputId": "80e0d5ea-e2e7-488a-a337-a78dc5094c76"
      },
      "execution_count": null,
      "outputs": [
        {
          "output_type": "stream",
          "name": "stdout",
          "text": [
            "      English  Literature     Math\n",
            "add+   180.00      168.00   188.00\n",
            "sub-    20.00       12.00     8.00\n",
            "mul*  8000.00     7020.00  8820.00\n",
            "div/     1.25        1.15     1.09\n"
          ]
        }
      ]
    },
    {
      "cell_type": "markdown",
      "source": [
        "### 🐹 3️⃣ Pandas Operation Method 연산메소드\n",
        "* <font color = 'blue'> **NaN**</font> stands for \"Not a Number.\"\n",
        "* NaN이 나오는 셀은 결과값이 모두 NaN"
      ],
      "metadata": {
        "id": "-Zba6tGAh7oP"
      }
    },
    {
      "cell_type": "markdown",
      "source": [
        "## 🐹 **_For your information:_**\n",
        "#### The <font color = 'red'>**NumPy**</font> package is a fundamental library for _numerical computing_ in Python. It provides support for _multidimensional arrays_, along with a wide range of **_mathematical functions_** to operate on these arrays efficiently. NumPy is a cornerstone of many scientific and engineering applications due to its powerful array processing capabilities(배열처리능력).\n",
        "\n",
        "<font color = 'brown'>**Here are some key features and purposes of the NumPy package:</font>**\n",
        "\n",
        "- **Multidimensional Array Support**: NumPy provides a powerful N-dimensional array object called ndarray, which enables efficient storage and manipulation of large datasets. These arrays allow for vectorized operations, which can significantly improve performance compared to traditional Python lists.\n",
        "\n",
        "- **Mathematical Functions**: NumPy offers a comprehensive set of mathematical functions for performing various operations on arrays. These include basic arithmetic operations, mathematical functions (e.g., trigonometric, exponential, logarithmic), linear algebra functions, statistical functions, and more.\n",
        "\n",
        "- **Broadcasting**: NumPy's broadcasting feature allows arrays of different shapes to be combined and operated on together, making it easy to perform element-wise operations even when the arrays have different dimensions.\n",
        "\n",
        "- **Integration with other Libraries**: NumPy integrates seamlessly with other Python libraries for scientific computing and data analysis, such as SciPy, pandas, matplotlib, and scikit-learn. It serves as a foundational building block for these libraries, providing efficient array processing capabilities.\n",
        "\n",
        "- **Performance Optimization**: NumPy is implemented in optimized C and Fortran code, making it fast and efficient for numerical computations. It leverages optimized libraries (such as BLAS and LAPACK) for linear algebra operations, ensuring high performance even for large-scale computations.\n",
        "\n",
        "\n",
        "\n",
        "\n",
        "\n"
      ],
      "metadata": {
        "id": "ahotvV0DLjwf"
      }
    },
    {
      "cell_type": "markdown",
      "source": [
        "### 💣 **NaN is not a string. Do it yourself so that you may understand it is not working!** ⤵️"
      ],
      "metadata": {
        "id": "JVV63gY-BIrT"
      }
    },
    {
      "cell_type": "code",
      "source": [
        "import pandas as pd\n",
        "import numpy as np\n",
        "\n",
        "student1 = pd.Series({'English':NaN, 'Literature':90, 'Math':98}) #NaN is a string, not a number.\n",
        "student2 = pd.Series({'Math':90, 'English':'80'})\n",
        "print(student1)\n",
        "print('\\n')\n",
        "print(student2)\n",
        "print('\\n')"
      ],
      "metadata": {
        "colab": {
          "base_uri": "https://localhost:8080/",
          "height": 221
        },
        "id": "ahfrl3AAZopR",
        "outputId": "7b135027-f28b-4551-d417-996fa3a4d76a"
      },
      "execution_count": null,
      "outputs": [
        {
          "output_type": "error",
          "ename": "NameError",
          "evalue": "name 'NaN' is not defined",
          "traceback": [
            "\u001b[0;31m---------------------------------------------------------------------------\u001b[0m",
            "\u001b[0;31mNameError\u001b[0m                                 Traceback (most recent call last)",
            "\u001b[0;32m<ipython-input-10-98baec438f88>\u001b[0m in \u001b[0;36m<cell line: 0>\u001b[0;34m()\u001b[0m\n\u001b[1;32m      2\u001b[0m \u001b[0;32mimport\u001b[0m \u001b[0mnumpy\u001b[0m \u001b[0;32mas\u001b[0m \u001b[0mnp\u001b[0m\u001b[0;34m\u001b[0m\u001b[0;34m\u001b[0m\u001b[0m\n\u001b[1;32m      3\u001b[0m \u001b[0;34m\u001b[0m\u001b[0m\n\u001b[0;32m----> 4\u001b[0;31m \u001b[0mstudent1\u001b[0m \u001b[0;34m=\u001b[0m \u001b[0mpd\u001b[0m\u001b[0;34m.\u001b[0m\u001b[0mSeries\u001b[0m\u001b[0;34m(\u001b[0m\u001b[0;34m{\u001b[0m\u001b[0;34m'English'\u001b[0m\u001b[0;34m:\u001b[0m\u001b[0mNaN\u001b[0m\u001b[0;34m,\u001b[0m \u001b[0;34m'Literature'\u001b[0m\u001b[0;34m:\u001b[0m\u001b[0;36m90\u001b[0m\u001b[0;34m,\u001b[0m \u001b[0;34m'Math'\u001b[0m\u001b[0;34m:\u001b[0m\u001b[0;36m98\u001b[0m\u001b[0;34m}\u001b[0m\u001b[0;34m)\u001b[0m \u001b[0;31m#NaN is a string, not a number.\u001b[0m\u001b[0;34m\u001b[0m\u001b[0;34m\u001b[0m\u001b[0m\n\u001b[0m\u001b[1;32m      5\u001b[0m \u001b[0mstudent2\u001b[0m \u001b[0;34m=\u001b[0m \u001b[0mpd\u001b[0m\u001b[0;34m.\u001b[0m\u001b[0mSeries\u001b[0m\u001b[0;34m(\u001b[0m\u001b[0;34m{\u001b[0m\u001b[0;34m'Math'\u001b[0m\u001b[0;34m:\u001b[0m\u001b[0;36m90\u001b[0m\u001b[0;34m,\u001b[0m \u001b[0;34m'English'\u001b[0m\u001b[0;34m:\u001b[0m\u001b[0;34m'80'\u001b[0m\u001b[0;34m}\u001b[0m\u001b[0;34m)\u001b[0m\u001b[0;34m\u001b[0m\u001b[0;34m\u001b[0m\u001b[0m\n\u001b[1;32m      6\u001b[0m \u001b[0mprint\u001b[0m\u001b[0;34m(\u001b[0m\u001b[0mstudent1\u001b[0m\u001b[0;34m)\u001b[0m\u001b[0;34m\u001b[0m\u001b[0;34m\u001b[0m\u001b[0m\n",
            "\u001b[0;31mNameError\u001b[0m: name 'NaN' is not defined"
          ]
        }
      ]
    },
    {
      "cell_type": "code",
      "source": [
        "import pandas as pd\n",
        "import numpy as np\n",
        "\n",
        "#'np.NaN is a constant representing \"Not a Number\" in the numpy library for Python.\n",
        "#It is used to represent missing or undefined numerical values, similar to NaN in other programming languages.\n",
        "\n",
        "student1 = pd.Series({'English':NaN, 'Literature':90, 'Math':98}) #NaN is a string, not a number.\n",
        "student2 = pd.Series({'Math':90, 'English':'80'})\n",
        "print(student1)\n",
        "print('\\n')\n",
        "print(student2)\n",
        "print('\\n')"
      ],
      "metadata": {
        "colab": {
          "base_uri": "https://localhost:8080/",
          "height": 210
        },
        "id": "zyDSxZUXBBKX",
        "outputId": "188acace-de52-49dd-d4d6-2663bb5b661b"
      },
      "execution_count": null,
      "outputs": [
        {
          "output_type": "error",
          "ename": "NameError",
          "evalue": "name 'NaN' is not defined",
          "traceback": [
            "\u001b[0;31m---------------------------------------------------------------------------\u001b[0m",
            "\u001b[0;31mNameError\u001b[0m                                 Traceback (most recent call last)",
            "\u001b[0;32m<ipython-input-9-f90b8d990afd>\u001b[0m in \u001b[0;36m<cell line: 0>\u001b[0;34m()\u001b[0m\n\u001b[1;32m      5\u001b[0m \u001b[0;31m#It is used to represent missing or undefined numerical values, similar to NaN in other programming languages.\u001b[0m\u001b[0;34m\u001b[0m\u001b[0;34m\u001b[0m\u001b[0m\n\u001b[1;32m      6\u001b[0m \u001b[0;34m\u001b[0m\u001b[0m\n\u001b[0;32m----> 7\u001b[0;31m \u001b[0mstudent1\u001b[0m \u001b[0;34m=\u001b[0m \u001b[0mpd\u001b[0m\u001b[0;34m.\u001b[0m\u001b[0mSeries\u001b[0m\u001b[0;34m(\u001b[0m\u001b[0;34m{\u001b[0m\u001b[0;34m'English'\u001b[0m\u001b[0;34m:\u001b[0m\u001b[0mNaN\u001b[0m\u001b[0;34m,\u001b[0m \u001b[0;34m'Literature'\u001b[0m\u001b[0;34m:\u001b[0m\u001b[0;36m90\u001b[0m\u001b[0;34m,\u001b[0m \u001b[0;34m'Math'\u001b[0m\u001b[0;34m:\u001b[0m\u001b[0;36m98\u001b[0m\u001b[0;34m}\u001b[0m\u001b[0;34m)\u001b[0m\u001b[0;34m\u001b[0m\u001b[0;34m\u001b[0m\u001b[0m\n\u001b[0m\u001b[1;32m      8\u001b[0m \u001b[0mstudent2\u001b[0m \u001b[0;34m=\u001b[0m \u001b[0mpd\u001b[0m\u001b[0;34m.\u001b[0m\u001b[0mSeries\u001b[0m\u001b[0;34m(\u001b[0m\u001b[0;34m{\u001b[0m\u001b[0;34m'Math'\u001b[0m\u001b[0;34m:\u001b[0m\u001b[0;36m90\u001b[0m\u001b[0;34m,\u001b[0m \u001b[0;34m'English'\u001b[0m\u001b[0;34m:\u001b[0m\u001b[0;34m'80'\u001b[0m\u001b[0;34m}\u001b[0m\u001b[0;34m)\u001b[0m\u001b[0;34m\u001b[0m\u001b[0;34m\u001b[0m\u001b[0m\n\u001b[1;32m      9\u001b[0m \u001b[0mprint\u001b[0m\u001b[0;34m(\u001b[0m\u001b[0mstudent1\u001b[0m\u001b[0;34m)\u001b[0m\u001b[0;34m\u001b[0m\u001b[0;34m\u001b[0m\u001b[0m\n",
            "\u001b[0;31mNameError\u001b[0m: name 'NaN' is not defined"
          ]
        }
      ]
    },
    {
      "cell_type": "code",
      "source": [
        "import pandas as pd\n",
        "import numpy as np\n",
        "\n",
        "#'np.NaN is a constant representing \"Not a Number\" in the numpy library for Python.\n",
        "#It is used to represent missing or undefined numerical values, similar to NaN in other programming languages.\n",
        "#Only addition works since it can put strings together. '80' is a string!\n",
        "import pandas as pd\n",
        "import numpy as np\n",
        "\n",
        "#두 학생의 점수로 사칙연산 수행 해 보기\n",
        "\n",
        "addition = student1 + student2\n",
        "print(addition)\n",
        "print('\\n')\n",
        "\n",
        "subtraction = student1-student2\n",
        "print(subtraction)\n",
        "\n",
        "multiplication = student1*student2\n",
        "print(multiplication)\n",
        "\n",
        "\n",
        "division = student1/student2\n",
        "print(division)\n"
      ],
      "metadata": {
        "collapsed": true,
        "colab": {
          "base_uri": "https://localhost:8080/",
          "height": 703
        },
        "id": "Prmblk8ABP-y",
        "outputId": "3edf23b6-daea-4f70-f0de-600b6637fa55"
      },
      "execution_count": null,
      "outputs": [
        {
          "output_type": "stream",
          "name": "stdout",
          "text": [
            "English       NaN\n",
            "Literature     90\n",
            "Math           98\n",
            "dtype: object\n",
            "\n",
            "\n",
            "Math       90\n",
            "English    80\n",
            "dtype: object\n",
            "\n",
            "\n",
            "English       NaN80\n",
            "Literature      NaN\n",
            "Math            188\n",
            "dtype: object\n",
            "\n",
            "\n"
          ]
        },
        {
          "output_type": "error",
          "ename": "TypeError",
          "evalue": "unsupported operand type(s) for -: 'str' and 'str'",
          "traceback": [
            "\u001b[0;31m---------------------------------------------------------------------------\u001b[0m",
            "\u001b[0;31mTypeError\u001b[0m                                 Traceback (most recent call last)",
            "\u001b[0;32m/usr/local/lib/python3.11/dist-packages/pandas/core/ops/array_ops.py\u001b[0m in \u001b[0;36m_na_arithmetic_op\u001b[0;34m(left, right, op, is_cmp)\u001b[0m\n\u001b[1;32m    217\u001b[0m     \u001b[0;32mtry\u001b[0m\u001b[0;34m:\u001b[0m\u001b[0;34m\u001b[0m\u001b[0;34m\u001b[0m\u001b[0m\n\u001b[0;32m--> 218\u001b[0;31m         \u001b[0mresult\u001b[0m \u001b[0;34m=\u001b[0m \u001b[0mfunc\u001b[0m\u001b[0;34m(\u001b[0m\u001b[0mleft\u001b[0m\u001b[0;34m,\u001b[0m \u001b[0mright\u001b[0m\u001b[0;34m)\u001b[0m\u001b[0;34m\u001b[0m\u001b[0;34m\u001b[0m\u001b[0m\n\u001b[0m\u001b[1;32m    219\u001b[0m     \u001b[0;32mexcept\u001b[0m \u001b[0mTypeError\u001b[0m\u001b[0;34m:\u001b[0m\u001b[0;34m\u001b[0m\u001b[0;34m\u001b[0m\u001b[0m\n",
            "\u001b[0;32m/usr/local/lib/python3.11/dist-packages/pandas/core/computation/expressions.py\u001b[0m in \u001b[0;36mevaluate\u001b[0;34m(op, a, b, use_numexpr)\u001b[0m\n\u001b[1;32m    241\u001b[0m             \u001b[0;31m# error: \"None\" not callable\u001b[0m\u001b[0;34m\u001b[0m\u001b[0;34m\u001b[0m\u001b[0m\n\u001b[0;32m--> 242\u001b[0;31m             \u001b[0;32mreturn\u001b[0m \u001b[0m_evaluate\u001b[0m\u001b[0;34m(\u001b[0m\u001b[0mop\u001b[0m\u001b[0;34m,\u001b[0m \u001b[0mop_str\u001b[0m\u001b[0;34m,\u001b[0m \u001b[0ma\u001b[0m\u001b[0;34m,\u001b[0m \u001b[0mb\u001b[0m\u001b[0;34m)\u001b[0m  \u001b[0;31m# type: ignore[misc]\u001b[0m\u001b[0;34m\u001b[0m\u001b[0;34m\u001b[0m\u001b[0m\n\u001b[0m\u001b[1;32m    243\u001b[0m     \u001b[0;32mreturn\u001b[0m \u001b[0m_evaluate_standard\u001b[0m\u001b[0;34m(\u001b[0m\u001b[0mop\u001b[0m\u001b[0;34m,\u001b[0m \u001b[0mop_str\u001b[0m\u001b[0;34m,\u001b[0m \u001b[0ma\u001b[0m\u001b[0;34m,\u001b[0m \u001b[0mb\u001b[0m\u001b[0;34m)\u001b[0m\u001b[0;34m\u001b[0m\u001b[0;34m\u001b[0m\u001b[0m\n",
            "\u001b[0;32m/usr/local/lib/python3.11/dist-packages/pandas/core/computation/expressions.py\u001b[0m in \u001b[0;36m_evaluate_numexpr\u001b[0;34m(op, op_str, a, b)\u001b[0m\n\u001b[1;32m    130\u001b[0m     \u001b[0;32mif\u001b[0m \u001b[0mresult\u001b[0m \u001b[0;32mis\u001b[0m \u001b[0;32mNone\u001b[0m\u001b[0;34m:\u001b[0m\u001b[0;34m\u001b[0m\u001b[0;34m\u001b[0m\u001b[0m\n\u001b[0;32m--> 131\u001b[0;31m         \u001b[0mresult\u001b[0m \u001b[0;34m=\u001b[0m \u001b[0m_evaluate_standard\u001b[0m\u001b[0;34m(\u001b[0m\u001b[0mop\u001b[0m\u001b[0;34m,\u001b[0m \u001b[0mop_str\u001b[0m\u001b[0;34m,\u001b[0m \u001b[0ma\u001b[0m\u001b[0;34m,\u001b[0m \u001b[0mb\u001b[0m\u001b[0;34m)\u001b[0m\u001b[0;34m\u001b[0m\u001b[0;34m\u001b[0m\u001b[0m\n\u001b[0m\u001b[1;32m    132\u001b[0m \u001b[0;34m\u001b[0m\u001b[0m\n",
            "\u001b[0;32m/usr/local/lib/python3.11/dist-packages/pandas/core/computation/expressions.py\u001b[0m in \u001b[0;36m_evaluate_standard\u001b[0;34m(op, op_str, a, b)\u001b[0m\n\u001b[1;32m     72\u001b[0m         \u001b[0m_store_test_result\u001b[0m\u001b[0;34m(\u001b[0m\u001b[0;32mFalse\u001b[0m\u001b[0;34m)\u001b[0m\u001b[0;34m\u001b[0m\u001b[0;34m\u001b[0m\u001b[0m\n\u001b[0;32m---> 73\u001b[0;31m     \u001b[0;32mreturn\u001b[0m \u001b[0mop\u001b[0m\u001b[0;34m(\u001b[0m\u001b[0ma\u001b[0m\u001b[0;34m,\u001b[0m \u001b[0mb\u001b[0m\u001b[0;34m)\u001b[0m\u001b[0;34m\u001b[0m\u001b[0;34m\u001b[0m\u001b[0m\n\u001b[0m\u001b[1;32m     74\u001b[0m \u001b[0;34m\u001b[0m\u001b[0m\n",
            "\u001b[0;31mTypeError\u001b[0m: unsupported operand type(s) for -: 'str' and 'str'",
            "\nDuring handling of the above exception, another exception occurred:\n",
            "\u001b[0;31mTypeError\u001b[0m                                 Traceback (most recent call last)",
            "\u001b[0;32m<ipython-input-27-df4aa130dce4>\u001b[0m in \u001b[0;36m<cell line: 0>\u001b[0;34m()\u001b[0m\n\u001b[1;32m     19\u001b[0m \u001b[0mprint\u001b[0m\u001b[0;34m(\u001b[0m\u001b[0;34m'\\n'\u001b[0m\u001b[0;34m)\u001b[0m\u001b[0;34m\u001b[0m\u001b[0;34m\u001b[0m\u001b[0m\n\u001b[1;32m     20\u001b[0m \u001b[0;34m\u001b[0m\u001b[0m\n\u001b[0;32m---> 21\u001b[0;31m \u001b[0msubtraction\u001b[0m \u001b[0;34m=\u001b[0m \u001b[0mstudent1\u001b[0m\u001b[0;34m-\u001b[0m\u001b[0mstudent2\u001b[0m\u001b[0;34m\u001b[0m\u001b[0;34m\u001b[0m\u001b[0m\n\u001b[0m\u001b[1;32m     22\u001b[0m \u001b[0mprint\u001b[0m\u001b[0;34m(\u001b[0m\u001b[0msubtraction\u001b[0m\u001b[0;34m)\u001b[0m\u001b[0;34m\u001b[0m\u001b[0;34m\u001b[0m\u001b[0m\n\u001b[1;32m     23\u001b[0m \u001b[0;34m\u001b[0m\u001b[0m\n",
            "\u001b[0;32m/usr/local/lib/python3.11/dist-packages/pandas/core/ops/common.py\u001b[0m in \u001b[0;36mnew_method\u001b[0;34m(self, other)\u001b[0m\n\u001b[1;32m     74\u001b[0m         \u001b[0mother\u001b[0m \u001b[0;34m=\u001b[0m \u001b[0mitem_from_zerodim\u001b[0m\u001b[0;34m(\u001b[0m\u001b[0mother\u001b[0m\u001b[0;34m)\u001b[0m\u001b[0;34m\u001b[0m\u001b[0;34m\u001b[0m\u001b[0m\n\u001b[1;32m     75\u001b[0m \u001b[0;34m\u001b[0m\u001b[0m\n\u001b[0;32m---> 76\u001b[0;31m         \u001b[0;32mreturn\u001b[0m \u001b[0mmethod\u001b[0m\u001b[0;34m(\u001b[0m\u001b[0mself\u001b[0m\u001b[0;34m,\u001b[0m \u001b[0mother\u001b[0m\u001b[0;34m)\u001b[0m\u001b[0;34m\u001b[0m\u001b[0;34m\u001b[0m\u001b[0m\n\u001b[0m\u001b[1;32m     77\u001b[0m \u001b[0;34m\u001b[0m\u001b[0m\n\u001b[1;32m     78\u001b[0m     \u001b[0;32mreturn\u001b[0m \u001b[0mnew_method\u001b[0m\u001b[0;34m\u001b[0m\u001b[0;34m\u001b[0m\u001b[0m\n",
            "\u001b[0;32m/usr/local/lib/python3.11/dist-packages/pandas/core/arraylike.py\u001b[0m in \u001b[0;36m__sub__\u001b[0;34m(self, other)\u001b[0m\n\u001b[1;32m    192\u001b[0m     \u001b[0;34m@\u001b[0m\u001b[0munpack_zerodim_and_defer\u001b[0m\u001b[0;34m(\u001b[0m\u001b[0;34m\"__sub__\"\u001b[0m\u001b[0;34m)\u001b[0m\u001b[0;34m\u001b[0m\u001b[0;34m\u001b[0m\u001b[0m\n\u001b[1;32m    193\u001b[0m     \u001b[0;32mdef\u001b[0m \u001b[0m__sub__\u001b[0m\u001b[0;34m(\u001b[0m\u001b[0mself\u001b[0m\u001b[0;34m,\u001b[0m \u001b[0mother\u001b[0m\u001b[0;34m)\u001b[0m\u001b[0;34m:\u001b[0m\u001b[0;34m\u001b[0m\u001b[0;34m\u001b[0m\u001b[0m\n\u001b[0;32m--> 194\u001b[0;31m         \u001b[0;32mreturn\u001b[0m \u001b[0mself\u001b[0m\u001b[0;34m.\u001b[0m\u001b[0m_arith_method\u001b[0m\u001b[0;34m(\u001b[0m\u001b[0mother\u001b[0m\u001b[0;34m,\u001b[0m \u001b[0moperator\u001b[0m\u001b[0;34m.\u001b[0m\u001b[0msub\u001b[0m\u001b[0;34m)\u001b[0m\u001b[0;34m\u001b[0m\u001b[0;34m\u001b[0m\u001b[0m\n\u001b[0m\u001b[1;32m    195\u001b[0m \u001b[0;34m\u001b[0m\u001b[0m\n\u001b[1;32m    196\u001b[0m     \u001b[0;34m@\u001b[0m\u001b[0munpack_zerodim_and_defer\u001b[0m\u001b[0;34m(\u001b[0m\u001b[0;34m\"__rsub__\"\u001b[0m\u001b[0;34m)\u001b[0m\u001b[0;34m\u001b[0m\u001b[0;34m\u001b[0m\u001b[0m\n",
            "\u001b[0;32m/usr/local/lib/python3.11/dist-packages/pandas/core/series.py\u001b[0m in \u001b[0;36m_arith_method\u001b[0;34m(self, other, op)\u001b[0m\n\u001b[1;32m   6133\u001b[0m     \u001b[0;32mdef\u001b[0m \u001b[0m_arith_method\u001b[0m\u001b[0;34m(\u001b[0m\u001b[0mself\u001b[0m\u001b[0;34m,\u001b[0m \u001b[0mother\u001b[0m\u001b[0;34m,\u001b[0m \u001b[0mop\u001b[0m\u001b[0;34m)\u001b[0m\u001b[0;34m:\u001b[0m\u001b[0;34m\u001b[0m\u001b[0;34m\u001b[0m\u001b[0m\n\u001b[1;32m   6134\u001b[0m         \u001b[0mself\u001b[0m\u001b[0;34m,\u001b[0m \u001b[0mother\u001b[0m \u001b[0;34m=\u001b[0m \u001b[0mself\u001b[0m\u001b[0;34m.\u001b[0m\u001b[0m_align_for_op\u001b[0m\u001b[0;34m(\u001b[0m\u001b[0mother\u001b[0m\u001b[0;34m)\u001b[0m\u001b[0;34m\u001b[0m\u001b[0;34m\u001b[0m\u001b[0m\n\u001b[0;32m-> 6135\u001b[0;31m         \u001b[0;32mreturn\u001b[0m \u001b[0mbase\u001b[0m\u001b[0;34m.\u001b[0m\u001b[0mIndexOpsMixin\u001b[0m\u001b[0;34m.\u001b[0m\u001b[0m_arith_method\u001b[0m\u001b[0;34m(\u001b[0m\u001b[0mself\u001b[0m\u001b[0;34m,\u001b[0m \u001b[0mother\u001b[0m\u001b[0;34m,\u001b[0m \u001b[0mop\u001b[0m\u001b[0;34m)\u001b[0m\u001b[0;34m\u001b[0m\u001b[0;34m\u001b[0m\u001b[0m\n\u001b[0m\u001b[1;32m   6136\u001b[0m \u001b[0;34m\u001b[0m\u001b[0m\n\u001b[1;32m   6137\u001b[0m     \u001b[0;32mdef\u001b[0m \u001b[0m_align_for_op\u001b[0m\u001b[0;34m(\u001b[0m\u001b[0mself\u001b[0m\u001b[0;34m,\u001b[0m \u001b[0mright\u001b[0m\u001b[0;34m,\u001b[0m \u001b[0malign_asobject\u001b[0m\u001b[0;34m:\u001b[0m \u001b[0mbool\u001b[0m \u001b[0;34m=\u001b[0m \u001b[0;32mFalse\u001b[0m\u001b[0;34m)\u001b[0m\u001b[0;34m:\u001b[0m\u001b[0;34m\u001b[0m\u001b[0;34m\u001b[0m\u001b[0m\n",
            "\u001b[0;32m/usr/local/lib/python3.11/dist-packages/pandas/core/base.py\u001b[0m in \u001b[0;36m_arith_method\u001b[0;34m(self, other, op)\u001b[0m\n\u001b[1;32m   1380\u001b[0m \u001b[0;34m\u001b[0m\u001b[0m\n\u001b[1;32m   1381\u001b[0m         \u001b[0;32mwith\u001b[0m \u001b[0mnp\u001b[0m\u001b[0;34m.\u001b[0m\u001b[0merrstate\u001b[0m\u001b[0;34m(\u001b[0m\u001b[0mall\u001b[0m\u001b[0;34m=\u001b[0m\u001b[0;34m\"ignore\"\u001b[0m\u001b[0;34m)\u001b[0m\u001b[0;34m:\u001b[0m\u001b[0;34m\u001b[0m\u001b[0;34m\u001b[0m\u001b[0m\n\u001b[0;32m-> 1382\u001b[0;31m             \u001b[0mresult\u001b[0m \u001b[0;34m=\u001b[0m \u001b[0mops\u001b[0m\u001b[0;34m.\u001b[0m\u001b[0marithmetic_op\u001b[0m\u001b[0;34m(\u001b[0m\u001b[0mlvalues\u001b[0m\u001b[0;34m,\u001b[0m \u001b[0mrvalues\u001b[0m\u001b[0;34m,\u001b[0m \u001b[0mop\u001b[0m\u001b[0;34m)\u001b[0m\u001b[0;34m\u001b[0m\u001b[0;34m\u001b[0m\u001b[0m\n\u001b[0m\u001b[1;32m   1383\u001b[0m \u001b[0;34m\u001b[0m\u001b[0m\n\u001b[1;32m   1384\u001b[0m         \u001b[0;32mreturn\u001b[0m \u001b[0mself\u001b[0m\u001b[0;34m.\u001b[0m\u001b[0m_construct_result\u001b[0m\u001b[0;34m(\u001b[0m\u001b[0mresult\u001b[0m\u001b[0;34m,\u001b[0m \u001b[0mname\u001b[0m\u001b[0;34m=\u001b[0m\u001b[0mres_name\u001b[0m\u001b[0;34m)\u001b[0m\u001b[0;34m\u001b[0m\u001b[0;34m\u001b[0m\u001b[0m\n",
            "\u001b[0;32m/usr/local/lib/python3.11/dist-packages/pandas/core/ops/array_ops.py\u001b[0m in \u001b[0;36marithmetic_op\u001b[0;34m(left, right, op)\u001b[0m\n\u001b[1;32m    281\u001b[0m         \u001b[0;31m# error: Argument 1 to \"_na_arithmetic_op\" has incompatible type\u001b[0m\u001b[0;34m\u001b[0m\u001b[0;34m\u001b[0m\u001b[0m\n\u001b[1;32m    282\u001b[0m         \u001b[0;31m# \"Union[ExtensionArray, ndarray[Any, Any]]\"; expected \"ndarray[Any, Any]\"\u001b[0m\u001b[0;34m\u001b[0m\u001b[0;34m\u001b[0m\u001b[0m\n\u001b[0;32m--> 283\u001b[0;31m         \u001b[0mres_values\u001b[0m \u001b[0;34m=\u001b[0m \u001b[0m_na_arithmetic_op\u001b[0m\u001b[0;34m(\u001b[0m\u001b[0mleft\u001b[0m\u001b[0;34m,\u001b[0m \u001b[0mright\u001b[0m\u001b[0;34m,\u001b[0m \u001b[0mop\u001b[0m\u001b[0;34m)\u001b[0m  \u001b[0;31m# type: ignore[arg-type]\u001b[0m\u001b[0;34m\u001b[0m\u001b[0;34m\u001b[0m\u001b[0m\n\u001b[0m\u001b[1;32m    284\u001b[0m \u001b[0;34m\u001b[0m\u001b[0m\n\u001b[1;32m    285\u001b[0m     \u001b[0;32mreturn\u001b[0m \u001b[0mres_values\u001b[0m\u001b[0;34m\u001b[0m\u001b[0;34m\u001b[0m\u001b[0m\n",
            "\u001b[0;32m/usr/local/lib/python3.11/dist-packages/pandas/core/ops/array_ops.py\u001b[0m in \u001b[0;36m_na_arithmetic_op\u001b[0;34m(left, right, op, is_cmp)\u001b[0m\n\u001b[1;32m    225\u001b[0m             \u001b[0;31m# Don't do this for comparisons, as that will handle complex numbers\u001b[0m\u001b[0;34m\u001b[0m\u001b[0;34m\u001b[0m\u001b[0m\n\u001b[1;32m    226\u001b[0m             \u001b[0;31m#  incorrectly, see GH#32047\u001b[0m\u001b[0;34m\u001b[0m\u001b[0;34m\u001b[0m\u001b[0m\n\u001b[0;32m--> 227\u001b[0;31m             \u001b[0mresult\u001b[0m \u001b[0;34m=\u001b[0m \u001b[0m_masked_arith_op\u001b[0m\u001b[0;34m(\u001b[0m\u001b[0mleft\u001b[0m\u001b[0;34m,\u001b[0m \u001b[0mright\u001b[0m\u001b[0;34m,\u001b[0m \u001b[0mop\u001b[0m\u001b[0;34m)\u001b[0m\u001b[0;34m\u001b[0m\u001b[0;34m\u001b[0m\u001b[0m\n\u001b[0m\u001b[1;32m    228\u001b[0m         \u001b[0;32melse\u001b[0m\u001b[0;34m:\u001b[0m\u001b[0;34m\u001b[0m\u001b[0;34m\u001b[0m\u001b[0m\n\u001b[1;32m    229\u001b[0m             \u001b[0;32mraise\u001b[0m\u001b[0;34m\u001b[0m\u001b[0;34m\u001b[0m\u001b[0m\n",
            "\u001b[0;32m/usr/local/lib/python3.11/dist-packages/pandas/core/ops/array_ops.py\u001b[0m in \u001b[0;36m_masked_arith_op\u001b[0;34m(x, y, op)\u001b[0m\n\u001b[1;32m    161\u001b[0m         \u001b[0;31m# See GH#5284, GH#5035, GH#19448 for historical reference\u001b[0m\u001b[0;34m\u001b[0m\u001b[0;34m\u001b[0m\u001b[0m\n\u001b[1;32m    162\u001b[0m         \u001b[0;32mif\u001b[0m \u001b[0mmask\u001b[0m\u001b[0;34m.\u001b[0m\u001b[0many\u001b[0m\u001b[0;34m(\u001b[0m\u001b[0;34m)\u001b[0m\u001b[0;34m:\u001b[0m\u001b[0;34m\u001b[0m\u001b[0;34m\u001b[0m\u001b[0m\n\u001b[0;32m--> 163\u001b[0;31m             \u001b[0mresult\u001b[0m\u001b[0;34m[\u001b[0m\u001b[0mmask\u001b[0m\u001b[0;34m]\u001b[0m \u001b[0;34m=\u001b[0m \u001b[0mop\u001b[0m\u001b[0;34m(\u001b[0m\u001b[0mxrav\u001b[0m\u001b[0;34m[\u001b[0m\u001b[0mmask\u001b[0m\u001b[0;34m]\u001b[0m\u001b[0;34m,\u001b[0m \u001b[0myrav\u001b[0m\u001b[0;34m[\u001b[0m\u001b[0mmask\u001b[0m\u001b[0;34m]\u001b[0m\u001b[0;34m)\u001b[0m\u001b[0;34m\u001b[0m\u001b[0;34m\u001b[0m\u001b[0m\n\u001b[0m\u001b[1;32m    164\u001b[0m \u001b[0;34m\u001b[0m\u001b[0m\n\u001b[1;32m    165\u001b[0m     \u001b[0;32melse\u001b[0m\u001b[0;34m:\u001b[0m\u001b[0;34m\u001b[0m\u001b[0;34m\u001b[0m\u001b[0m\n",
            "\u001b[0;31mTypeError\u001b[0m: unsupported operand type(s) for -: 'str' and 'str'"
          ]
        }
      ]
    },
    {
      "cell_type": "code",
      "source": [
        "import pandas as pd\n",
        "import numpy as np\n",
        "\n",
        "addition = student1 + student2\n",
        "print(addition)\n",
        "print('\\n')\n",
        "\n",
        "subtraction = student1-student2\n",
        "print(subtraction)\n",
        "\n",
        "multiplication = student1*student2\n",
        "print(multiplication)\n",
        "\n",
        "\n",
        "division = student1/student2\n",
        "print(division)"
      ],
      "metadata": {
        "colab": {
          "base_uri": "https://localhost:8080/"
        },
        "id": "M7Vl2o_ca1RX",
        "outputId": "1f9177a6-57ef-48e6-98f7-417c24ff5d4f"
      },
      "execution_count": null,
      "outputs": [
        {
          "output_type": "stream",
          "name": "stdout",
          "text": [
            "English       180\n",
            "Literature    168\n",
            "Math          188\n",
            "dtype: int64\n",
            "\n",
            "\n",
            "English       20\n",
            "Literature    12\n",
            "Math           8\n",
            "dtype: int64\n",
            "English       8000\n",
            "Literature    7020\n",
            "Math          8820\n",
            "dtype: int64\n",
            "English       1.250000\n",
            "Literature    1.153846\n",
            "Math          1.088889\n",
            "dtype: float64\n"
          ]
        }
      ]
    },
    {
      "cell_type": "markdown",
      "source": [
        "### <font color = 'green'> **Example usage using np.nan**"
      ],
      "metadata": {
        "id": "WknHnigqCMX0"
      }
    },
    {
      "cell_type": "code",
      "source": [
        "import pandas as pd\n",
        "import numpy as np\n",
        "\n",
        "s1 = pd.Series({'English':np.nan, 'Literature':90, 'Math':98})\n",
        "s2 = pd.Series({'Math':90, 'English':'80'})\n",
        "print(s1)\n",
        "print('\\n')\n",
        "print(s2)\n",
        "print('\\n')\n",
        "\n",
        "add = s1 + s2\n",
        "print(add)\n",
        "print('\\n')\n",
        "\n",
        "sub = s1-s2\n",
        "print(sub)\n",
        "print('\\n')\n",
        "\n",
        "mul = s1*s2\n",
        "print(mul)\n",
        "print('\\n')\n",
        "\n",
        "div = s1/s2\n",
        "print(div)\n",
        "print('\\n')\n",
        "\n",
        "result = pd.DataFrame([add, sub, mul, div], index = ['add +', 'sub -', 'mul *', 'div /'])\n",
        "print(result)"
      ],
      "metadata": {
        "colab": {
          "base_uri": "https://localhost:8080/"
        },
        "id": "Q_tEj49jbK2v",
        "outputId": "53ec210b-8dad-40a8-e106-924feb2791af"
      },
      "execution_count": null,
      "outputs": [
        {
          "output_type": "stream",
          "name": "stdout",
          "text": [
            "English        NaN\n",
            "Literature    90.0\n",
            "Math          98.0\n",
            "dtype: float64\n",
            "\n",
            "\n",
            "Math       90\n",
            "English    80\n",
            "dtype: object\n",
            "\n",
            "\n",
            "English         NaN\n",
            "Literature      NaN\n",
            "Math          188.0\n",
            "dtype: object\n",
            "\n",
            "\n",
            "English       NaN\n",
            "Literature    NaN\n",
            "Math          8.0\n",
            "dtype: object\n",
            "\n",
            "\n",
            "English          NaN\n",
            "Literature       NaN\n",
            "Math          8820.0\n",
            "dtype: object\n",
            "\n",
            "\n",
            "English            NaN\n",
            "Literature         NaN\n",
            "Math          1.088889\n",
            "dtype: object\n",
            "\n",
            "\n",
            "       English  Literature         Math\n",
            "add +      NaN         NaN   188.000000\n",
            "sub -      NaN         NaN     8.000000\n",
            "mul *      NaN         NaN  8820.000000\n",
            "div /      NaN         NaN     1.088889\n"
          ]
        }
      ]
    },
    {
      "cell_type": "code",
      "source": [
        "import pandas as pd\n",
        "import numpy as np\n",
        "\n",
        "#'np.NaN is a constant representing \"Not a Number\" in the numpy library for Python.\n",
        "#It is used to represent missing or undefined numerical values, similar to NaN in other programming languages.\n",
        "\n",
        "student1 = pd.Series({'English':np.nan, 'Literature':90, 'Math':98})\n",
        "student2 = pd.Series({'Math':90, 'English':'80'})\n",
        "print(student1)\n",
        "print('\\n')\n",
        "print(student2)\n",
        "print('\\n')\n",
        "\n",
        "#두 학생의 점수로 사칙연산 수행 해 보기\n",
        "\n",
        "addition = student1 + student2\n",
        "print(addition)\n",
        "print('\\n')\n",
        "\n",
        "subtraction = student1-student2\n",
        "print(subtraction)\n",
        "print('\\n')\n",
        "\n",
        "multiplication = student1*student2\n",
        "print(multiplication)\n",
        "print('\\n')\n",
        "\n",
        "division = student1/student2\n",
        "print(division)\n",
        "print('\\n')\n",
        "\n",
        "result = pd.DataFrame([addition, subtraction, multiplication, division], index = ['addition +', 'subtraction -', 'multiplication *', 'division /'])\n",
        "print(result)"
      ],
      "metadata": {
        "colab": {
          "base_uri": "https://localhost:8080/"
        },
        "id": "zkwMroTSVjYE",
        "outputId": "a2081d35-3805-4ce5-89de-171ea2583e49"
      },
      "execution_count": null,
      "outputs": [
        {
          "output_type": "stream",
          "name": "stdout",
          "text": [
            "English        NaN\n",
            "Literature    90.0\n",
            "Math          98.0\n",
            "dtype: float64\n",
            "\n",
            "\n",
            "Math       90\n",
            "English    80\n",
            "dtype: object\n",
            "\n",
            "\n",
            "English         NaN\n",
            "Literature      NaN\n",
            "Math          188.0\n",
            "dtype: object\n",
            "\n",
            "\n",
            "English       NaN\n",
            "Literature    NaN\n",
            "Math          8.0\n",
            "dtype: object\n",
            "\n",
            "\n",
            "English          NaN\n",
            "Literature       NaN\n",
            "Math          8820.0\n",
            "dtype: object\n",
            "\n",
            "\n",
            "English            NaN\n",
            "Literature         NaN\n",
            "Math          1.088889\n",
            "dtype: object\n",
            "\n",
            "\n",
            "                  English  Literature         Math\n",
            "addition +            NaN         NaN   188.000000\n",
            "subtraction -         NaN         NaN     8.000000\n",
            "multiplication *      NaN         NaN  8820.000000\n",
            "division /            NaN         NaN     1.088889\n"
          ]
        }
      ]
    },
    {
      "cell_type": "markdown",
      "source": [
        "###🐹 4️⃣ Pandas Operation Method 연산메소드\n",
        "\n",
        "* **pd.to_numeric() function** is used to convert the values in student2 to the numeric data type. The **errors='coerce' argument** ensures that any invalid values are converted to NaN. This conversion allows four operations to be performed correctly.\n",
        "\n",
        "* For your information, the following script will work without **errors=coerce** argument, though."
      ],
      "metadata": {
        "id": "WiqqHT8LigBo"
      }
    },
    {
      "cell_type": "code",
      "source": [
        "import pandas as pd\n",
        "import numpy as np\n",
        "\n",
        "s1 = pd.Series({'English':np.nan, 'Literature':90, 'Math':98})\n",
        "s2 = pd.Series({'Math':90, 'English':'80'})\n",
        "\n",
        "s2 = pd.to_numeric(student2, errors='coerce')\n",
        "\n",
        "sr_add = s1 + s2\n",
        "sr_sub = s1 - s2\n",
        "sr_mul = s1 * s2\n",
        "sr_div = s1 / s2\n",
        "\n",
        "sr_result = pd.DataFrame([sr_add, sr_sub, sr_mul, sr_div], index = [\"Addition\", \"Subtraction\", \"Multiplication\", \"Division\"])\n",
        "print(sr_result)"
      ],
      "metadata": {
        "colab": {
          "base_uri": "https://localhost:8080/"
        },
        "id": "eJKi0KUMfm2D",
        "outputId": "379fc7dd-6b1e-4b51-fd35-a9a15558e5d1"
      },
      "execution_count": null,
      "outputs": [
        {
          "output_type": "stream",
          "name": "stdout",
          "text": [
            "                English  Literature         Math\n",
            "Addition            NaN         NaN   188.000000\n",
            "Subtraction         NaN         NaN     8.000000\n",
            "Multiplication      NaN         NaN  8820.000000\n",
            "Division            NaN         NaN     1.088889\n"
          ]
        }
      ]
    },
    {
      "cell_type": "code",
      "source": [
        "# Trial1\n",
        "\n",
        "import pandas as pd\n",
        "import numpy as np\n",
        "\n",
        "student1 = pd.Series({'English':np.nan, 'Literature':90, 'Math':98})\n",
        "student2 = pd.Series({'Math':90, 'English':'80'})\n",
        "\n",
        "#Add this step for converting string to numeric\n",
        "student2 = pd.to_numeric(student2, errors='coerce')\n",
        "\n",
        "sr_add = student1 + student2\n",
        "sr_sub = student1 - student2\n",
        "sr_mul = student1 * student2\n",
        "sr_div = student1 / student2\n",
        "\n",
        "sr_result = pd.DataFrame([sr_add, sr_sub, sr_mul, sr_div], index = [\"Addition\", \"Subtraction\", \"Multiplication\", \"Division\"])\n",
        "print(sr_result)"
      ],
      "metadata": {
        "id": "vooINtZTOxjY",
        "outputId": "0f4a3cd0-11f4-4c48-f827-110ac69d7fcf",
        "colab": {
          "base_uri": "https://localhost:8080/"
        }
      },
      "execution_count": null,
      "outputs": [
        {
          "output_type": "stream",
          "name": "stdout",
          "text": [
            "                English  Literature         Math\n",
            "Addition            NaN         NaN   188.000000\n",
            "Subtraction         NaN         NaN     8.000000\n",
            "Multiplication      NaN         NaN  8820.000000\n",
            "Division            NaN         NaN     1.088889\n"
          ]
        }
      ]
    },
    {
      "cell_type": "markdown",
      "source": [
        "###🐹 5️⃣ Pandas Operation Method 연산메소드\n",
        "* <font color = 'red'> NaN을 정수 0 으로 채워넣기"
      ],
      "metadata": {
        "id": "SqeBggJWDy6b"
      }
    },
    {
      "cell_type": "code",
      "source": [
        "import pandas as pd\n",
        "import numpy as np\n",
        "\n",
        "s1 = pd.Series({'English':np.nan, 'Literature':90, 'Math':98})\n",
        "s2 = pd.Series({'Math':90, 'English':'80'})\n",
        "\n",
        "s2 = pd.to_numeric(s2, errors='coerce')\n",
        "\n",
        "sr_add = s1.add(s2, fill_value = 0)\n",
        "sr_sub = s1.sub(s2, fill_value = 0)\n",
        "sr_mul = s1.mul(s2, fill_value = 0)\n",
        "sr_div = s1.div(s2, fill_value = 0)\n",
        "\n",
        "sr_result = pd.DataFrame([sr_add, sr_sub, sr_mul, sr_div], index = [\"Addition\", \"Subtraction\", \"Multiplication\", \"Division\"])\n",
        "print(sr_result)"
      ],
      "metadata": {
        "colab": {
          "base_uri": "https://localhost:8080/"
        },
        "id": "XOdU4GSzhlWW",
        "outputId": "84b238e4-0b2c-485a-be9a-f6d470081027"
      },
      "execution_count": null,
      "outputs": [
        {
          "output_type": "stream",
          "name": "stdout",
          "text": [
            "                English  Literature         Math\n",
            "Addition           80.0        90.0   188.000000\n",
            "Subtraction       -80.0        90.0     8.000000\n",
            "Multiplication      0.0         0.0  8820.000000\n",
            "Division            0.0         inf     1.088889\n"
          ]
        }
      ]
    },
    {
      "cell_type": "code",
      "source": [
        "import pandas as pd\n",
        "import numpy as np\n",
        "\n",
        "student1 = pd.Series({'English':np.nan, 'Literature':90, 'Math':98})\n",
        "student2 = pd.Series({'Math':90, 'English':'80'})\n",
        "\n",
        "#⤵️ Add this step for converting string to numeric. Unless we apply this function, we end up with errors with 'fill_value=0'): Refer to the code cell below.⤵️\n",
        "student2 = pd.to_numeric(student2, errors='coerce')\n",
        "\n",
        "sr_add = student1.add(student2, fill_value = 0)\n",
        "sr_sub = student1.sub(student2, fill_value = 0)\n",
        "sr_mul = student1.mul(student2, fill_value = 0)\n",
        "sr_div = student1.div(student2, fill_value = 0)\n",
        "\n",
        "sr_result = pd.DataFrame([sr_add, sr_sub, sr_mul, sr_div], index = [\"Addition\", \"Subtraction\", \"Multiplication\", \"Division\"])\n",
        "print(sr_result)"
      ],
      "metadata": {
        "id": "R3bqw6Hiisse",
        "outputId": "2492833a-bc30-45f1-8c92-69d854f5f402",
        "colab": {
          "base_uri": "https://localhost:8080/"
        }
      },
      "execution_count": null,
      "outputs": [
        {
          "output_type": "stream",
          "name": "stdout",
          "text": [
            "                English  Literature         Math\n",
            "Addition           80.0        90.0   188.000000\n",
            "Subtraction       -80.0        90.0     8.000000\n",
            "Multiplication      0.0         0.0  8820.000000\n",
            "Division            0.0         inf     1.088889\n"
          ]
        }
      ]
    },
    {
      "cell_type": "markdown",
      "source": [
        "#⤵️ 💣💣💣 🐥 🐣 🐤"
      ],
      "metadata": {
        "id": "5KoMev0hR_ds"
      }
    },
    {
      "cell_type": "markdown",
      "source": [
        "# <font color = 'red'> **Trial2: When you omit to_numeric(instobj, errors='coerce'), SyntaxError occurs! 💣**"
      ],
      "metadata": {
        "id": "2hzHAiByHJAg"
      }
    },
    {
      "cell_type": "code",
      "source": [
        "import pandas as pd\n",
        "import numpy as np\n",
        "\n",
        "s1 = pd.Series({'English':np.NaN, 'Literature':90, 'Math':98})\n",
        "s2 = pd.Series({'Math':90, 'English':'80'})\n",
        "\n",
        "sr_add = s1.add(s2, fill_value = 0)\n",
        "sr_sub = s1.sub(s2, fill_value = 0)\n",
        "sr_mul = s1.mul(s2, fill_value = 0)\n",
        "sr_div = s1.div(s2, fill_value = 0)\n",
        "\n",
        "sr_result = pd.DataFrame([sr_add, sr_sub, sr_mul, sr_div], index = [\"Addition\", \"Subtraction\", \"Multiplication\", \"Division\"])\n",
        "print(sr_result)"
      ],
      "metadata": {
        "collapsed": true,
        "colab": {
          "base_uri": "https://localhost:8080/",
          "height": 349
        },
        "id": "8lgk96axh50i",
        "outputId": "c5d02995-4871-4eb7-e304-03c2d0d5da99"
      },
      "execution_count": null,
      "outputs": [
        {
          "output_type": "error",
          "ename": "AttributeError",
          "evalue": "`np.NaN` was removed in the NumPy 2.0 release. Use `np.nan` instead.",
          "traceback": [
            "\u001b[0;31m---------------------------------------------------------------------------\u001b[0m",
            "\u001b[0;31mAttributeError\u001b[0m                            Traceback (most recent call last)",
            "\u001b[0;32m<ipython-input-22-616af6bf96dc>\u001b[0m in \u001b[0;36m<cell line: 0>\u001b[0;34m()\u001b[0m\n\u001b[1;32m      2\u001b[0m \u001b[0;32mimport\u001b[0m \u001b[0mnumpy\u001b[0m \u001b[0;32mas\u001b[0m \u001b[0mnp\u001b[0m\u001b[0;34m\u001b[0m\u001b[0;34m\u001b[0m\u001b[0m\n\u001b[1;32m      3\u001b[0m \u001b[0;34m\u001b[0m\u001b[0m\n\u001b[0;32m----> 4\u001b[0;31m \u001b[0ms1\u001b[0m \u001b[0;34m=\u001b[0m \u001b[0mpd\u001b[0m\u001b[0;34m.\u001b[0m\u001b[0mSeries\u001b[0m\u001b[0;34m(\u001b[0m\u001b[0;34m{\u001b[0m\u001b[0;34m'English'\u001b[0m\u001b[0;34m:\u001b[0m\u001b[0mnp\u001b[0m\u001b[0;34m.\u001b[0m\u001b[0mNaN\u001b[0m\u001b[0;34m,\u001b[0m \u001b[0;34m'Literature'\u001b[0m\u001b[0;34m:\u001b[0m\u001b[0;36m90\u001b[0m\u001b[0;34m,\u001b[0m \u001b[0;34m'Math'\u001b[0m\u001b[0;34m:\u001b[0m\u001b[0;36m98\u001b[0m\u001b[0;34m}\u001b[0m\u001b[0;34m)\u001b[0m\u001b[0;34m\u001b[0m\u001b[0;34m\u001b[0m\u001b[0m\n\u001b[0m\u001b[1;32m      5\u001b[0m \u001b[0ms2\u001b[0m \u001b[0;34m=\u001b[0m \u001b[0mpd\u001b[0m\u001b[0;34m.\u001b[0m\u001b[0mSeries\u001b[0m\u001b[0;34m(\u001b[0m\u001b[0;34m{\u001b[0m\u001b[0;34m'Math'\u001b[0m\u001b[0;34m:\u001b[0m\u001b[0;36m90\u001b[0m\u001b[0;34m,\u001b[0m \u001b[0;34m'English'\u001b[0m\u001b[0;34m:\u001b[0m\u001b[0;34m'80'\u001b[0m\u001b[0;34m}\u001b[0m\u001b[0;34m)\u001b[0m\u001b[0;34m\u001b[0m\u001b[0;34m\u001b[0m\u001b[0m\n\u001b[1;32m      6\u001b[0m \u001b[0;34m\u001b[0m\u001b[0m\n",
            "\u001b[0;32m/usr/local/lib/python3.11/dist-packages/numpy/__init__.py\u001b[0m in \u001b[0;36m__getattr__\u001b[0;34m(attr)\u001b[0m\n\u001b[1;32m    395\u001b[0m \u001b[0;34m\u001b[0m\u001b[0m\n\u001b[1;32m    396\u001b[0m         \u001b[0;32mif\u001b[0m \u001b[0mattr\u001b[0m \u001b[0;32min\u001b[0m \u001b[0m__expired_attributes__\u001b[0m\u001b[0;34m:\u001b[0m\u001b[0;34m\u001b[0m\u001b[0;34m\u001b[0m\u001b[0m\n\u001b[0;32m--> 397\u001b[0;31m             raise AttributeError(\n\u001b[0m\u001b[1;32m    398\u001b[0m                 \u001b[0;34mf\"`np.{attr}` was removed in the NumPy 2.0 release. \"\u001b[0m\u001b[0;34m\u001b[0m\u001b[0;34m\u001b[0m\u001b[0m\n\u001b[1;32m    399\u001b[0m                 \u001b[0;34mf\"{__expired_attributes__[attr]}\"\u001b[0m\u001b[0;34m\u001b[0m\u001b[0;34m\u001b[0m\u001b[0m\n",
            "\u001b[0;31mAttributeError\u001b[0m: `np.NaN` was removed in the NumPy 2.0 release. Use `np.nan` instead."
          ]
        }
      ]
    },
    {
      "cell_type": "code",
      "source": [
        "#Trial2: When you omit to_numeric(instobj, errors='coerce'), SyntaxError occurs!\n",
        "\n",
        "import pandas as pd\n",
        "import numpy as np\n",
        "\n",
        "student1 = pd.Series({'English':np.NaN, 'Literature':90, 'Math':98})\n",
        "student2 = pd.Series({'Math':90, 'English':'80'})\n",
        "\n",
        "sr_add = student1.add(student2, fill_value = 0)\n",
        "sr_sub = student1.sub(student2, fill_value = 0)\n",
        "sr_mul = student1.mul(student2, fill_value = 0)\n",
        "sr_div = student1.div(student2, fill_value = 0)\n",
        "\n",
        "sr_result = pd.DataFrame([sr_add, sr_sub, sr_mul, sr_div], index = [\"Addition\", \"Subtraction\", \"Multiplication\", \"Division\"])\n",
        "print(sr_result)"
      ],
      "metadata": {
        "id": "jAor5lI8PLsp",
        "outputId": "593cea4b-b2be-46ac-a54d-6ecdaccfe64b",
        "colab": {
          "base_uri": "https://localhost:8080/",
          "height": 356
        },
        "collapsed": true
      },
      "execution_count": null,
      "outputs": [
        {
          "output_type": "error",
          "ename": "TypeError",
          "evalue": "unsupported operand type(s) for +: 'float' and 'str'",
          "traceback": [
            "\u001b[0;31m---------------------------------------------------------------------------\u001b[0m",
            "\u001b[0;31mTypeError\u001b[0m                                 Traceback (most recent call last)",
            "\u001b[0;32m<ipython-input-4-417f8df4e996>\u001b[0m in \u001b[0;36m<cell line: 9>\u001b[0;34m()\u001b[0m\n\u001b[1;32m      7\u001b[0m \u001b[0mstudent2\u001b[0m \u001b[0;34m=\u001b[0m \u001b[0mpd\u001b[0m\u001b[0;34m.\u001b[0m\u001b[0mSeries\u001b[0m\u001b[0;34m(\u001b[0m\u001b[0;34m{\u001b[0m\u001b[0;34m'Math'\u001b[0m\u001b[0;34m:\u001b[0m\u001b[0;36m90\u001b[0m\u001b[0;34m,\u001b[0m \u001b[0;34m'English'\u001b[0m\u001b[0;34m:\u001b[0m\u001b[0;34m'80'\u001b[0m\u001b[0;34m}\u001b[0m\u001b[0;34m)\u001b[0m\u001b[0;34m\u001b[0m\u001b[0;34m\u001b[0m\u001b[0m\n\u001b[1;32m      8\u001b[0m \u001b[0;34m\u001b[0m\u001b[0m\n\u001b[0;32m----> 9\u001b[0;31m \u001b[0msr_add\u001b[0m \u001b[0;34m=\u001b[0m \u001b[0mstudent1\u001b[0m\u001b[0;34m.\u001b[0m\u001b[0madd\u001b[0m\u001b[0;34m(\u001b[0m\u001b[0mstudent2\u001b[0m\u001b[0;34m,\u001b[0m \u001b[0mfill_value\u001b[0m \u001b[0;34m=\u001b[0m \u001b[0;36m0\u001b[0m\u001b[0;34m)\u001b[0m\u001b[0;34m\u001b[0m\u001b[0;34m\u001b[0m\u001b[0m\n\u001b[0m\u001b[1;32m     10\u001b[0m \u001b[0msr_sub\u001b[0m \u001b[0;34m=\u001b[0m \u001b[0mstudent1\u001b[0m\u001b[0;34m.\u001b[0m\u001b[0msub\u001b[0m\u001b[0;34m(\u001b[0m\u001b[0mstudent2\u001b[0m\u001b[0;34m,\u001b[0m \u001b[0mfill_value\u001b[0m \u001b[0;34m=\u001b[0m \u001b[0;36m0\u001b[0m\u001b[0;34m)\u001b[0m\u001b[0;34m\u001b[0m\u001b[0;34m\u001b[0m\u001b[0m\n\u001b[1;32m     11\u001b[0m \u001b[0msr_mul\u001b[0m \u001b[0;34m=\u001b[0m \u001b[0mstudent1\u001b[0m\u001b[0;34m.\u001b[0m\u001b[0mmul\u001b[0m\u001b[0;34m(\u001b[0m\u001b[0mstudent2\u001b[0m\u001b[0;34m,\u001b[0m \u001b[0mfill_value\u001b[0m \u001b[0;34m=\u001b[0m \u001b[0;36m0\u001b[0m\u001b[0;34m)\u001b[0m\u001b[0;34m\u001b[0m\u001b[0;34m\u001b[0m\u001b[0m\n",
            "\u001b[0;32m/usr/local/lib/python3.10/dist-packages/pandas/core/ops/__init__.py\u001b[0m in \u001b[0;36mflex_wrapper\u001b[0;34m(self, other, level, fill_value, axis)\u001b[0m\n\u001b[1;32m    187\u001b[0m \u001b[0;34m\u001b[0m\u001b[0m\n\u001b[1;32m    188\u001b[0m         \u001b[0;32mif\u001b[0m \u001b[0misinstance\u001b[0m\u001b[0;34m(\u001b[0m\u001b[0mother\u001b[0m\u001b[0;34m,\u001b[0m \u001b[0mABCSeries\u001b[0m\u001b[0;34m)\u001b[0m\u001b[0;34m:\u001b[0m\u001b[0;34m\u001b[0m\u001b[0;34m\u001b[0m\u001b[0m\n\u001b[0;32m--> 189\u001b[0;31m             \u001b[0;32mreturn\u001b[0m \u001b[0mself\u001b[0m\u001b[0;34m.\u001b[0m\u001b[0m_binop\u001b[0m\u001b[0;34m(\u001b[0m\u001b[0mother\u001b[0m\u001b[0;34m,\u001b[0m \u001b[0mop\u001b[0m\u001b[0;34m,\u001b[0m \u001b[0mlevel\u001b[0m\u001b[0;34m=\u001b[0m\u001b[0mlevel\u001b[0m\u001b[0;34m,\u001b[0m \u001b[0mfill_value\u001b[0m\u001b[0;34m=\u001b[0m\u001b[0mfill_value\u001b[0m\u001b[0;34m)\u001b[0m\u001b[0;34m\u001b[0m\u001b[0;34m\u001b[0m\u001b[0m\n\u001b[0m\u001b[1;32m    190\u001b[0m         \u001b[0;32melif\u001b[0m \u001b[0misinstance\u001b[0m\u001b[0;34m(\u001b[0m\u001b[0mother\u001b[0m\u001b[0;34m,\u001b[0m \u001b[0;34m(\u001b[0m\u001b[0mnp\u001b[0m\u001b[0;34m.\u001b[0m\u001b[0mndarray\u001b[0m\u001b[0;34m,\u001b[0m \u001b[0mlist\u001b[0m\u001b[0;34m,\u001b[0m \u001b[0mtuple\u001b[0m\u001b[0;34m)\u001b[0m\u001b[0;34m)\u001b[0m\u001b[0;34m:\u001b[0m\u001b[0;34m\u001b[0m\u001b[0;34m\u001b[0m\u001b[0m\n\u001b[1;32m    191\u001b[0m             \u001b[0;32mif\u001b[0m \u001b[0mlen\u001b[0m\u001b[0;34m(\u001b[0m\u001b[0mother\u001b[0m\u001b[0;34m)\u001b[0m \u001b[0;34m!=\u001b[0m \u001b[0mlen\u001b[0m\u001b[0;34m(\u001b[0m\u001b[0mself\u001b[0m\u001b[0;34m)\u001b[0m\u001b[0;34m:\u001b[0m\u001b[0;34m\u001b[0m\u001b[0;34m\u001b[0m\u001b[0m\n",
            "\u001b[0;32m/usr/local/lib/python3.10/dist-packages/pandas/core/series.py\u001b[0m in \u001b[0;36m_binop\u001b[0;34m(self, other, func, level, fill_value)\u001b[0m\n\u001b[1;32m   3068\u001b[0m \u001b[0;34m\u001b[0m\u001b[0m\n\u001b[1;32m   3069\u001b[0m         \u001b[0;32mwith\u001b[0m \u001b[0mnp\u001b[0m\u001b[0;34m.\u001b[0m\u001b[0merrstate\u001b[0m\u001b[0;34m(\u001b[0m\u001b[0mall\u001b[0m\u001b[0;34m=\u001b[0m\u001b[0;34m\"ignore\"\u001b[0m\u001b[0;34m)\u001b[0m\u001b[0;34m:\u001b[0m\u001b[0;34m\u001b[0m\u001b[0;34m\u001b[0m\u001b[0m\n\u001b[0;32m-> 3070\u001b[0;31m             \u001b[0mresult\u001b[0m \u001b[0;34m=\u001b[0m \u001b[0mfunc\u001b[0m\u001b[0;34m(\u001b[0m\u001b[0mthis_vals\u001b[0m\u001b[0;34m,\u001b[0m \u001b[0mother_vals\u001b[0m\u001b[0;34m)\u001b[0m\u001b[0;34m\u001b[0m\u001b[0;34m\u001b[0m\u001b[0m\n\u001b[0m\u001b[1;32m   3071\u001b[0m \u001b[0;34m\u001b[0m\u001b[0m\n\u001b[1;32m   3072\u001b[0m         \u001b[0mname\u001b[0m \u001b[0;34m=\u001b[0m \u001b[0mops\u001b[0m\u001b[0;34m.\u001b[0m\u001b[0mget_op_result_name\u001b[0m\u001b[0;34m(\u001b[0m\u001b[0mself\u001b[0m\u001b[0;34m,\u001b[0m \u001b[0mother\u001b[0m\u001b[0;34m)\u001b[0m\u001b[0;34m\u001b[0m\u001b[0;34m\u001b[0m\u001b[0m\n",
            "\u001b[0;31mTypeError\u001b[0m: unsupported operand type(s) for +: 'float' and 'str'"
          ]
        }
      ]
    },
    {
      "cell_type": "markdown",
      "source": [
        "#**6️⃣ 데이터프레임 + 숫자**\n",
        "\n",
        "seaborn 내장 데이터 세트\n",
        "p.053 footnote\n",
        "\n",
        "🔵 The **sns.load_dataset()** function is part of the Seaborn library (sns), which is commonly used for **_data visualization in Python_**. <font color = 'blue'>When you call sns.load_dataset('titanic'), it loads the Titanic dataset from the online repository provided by Seaborn.</font>\n",
        "\n",
        "🔴 The Titanic dataset contains information about passengers aboard the Titanic, such as their **age, fare, class, and survival status**. It is a popular dataset often used for data analysis and visualization exercises.\n",
        "\n",
        "\n",
        "The sns.load_dataset() function loads the Titanic dataset and returns a Pandas DataFrame.\n",
        "\n",
        "The selected columns are stored in the DataFrame df.\n",
        "Number 10 is added to each element in the DataFrame df using the + operator, creating a new DataFrame addition.\n",
        "The first few rows of both df and addition are printed, along with their respective types (DataFrame)."
      ],
      "metadata": {
        "id": "mFLhpZyt4MGG"
      }
    },
    {
      "cell_type": "code",
      "source": [
        "import pandas as pd\n",
        "import seaborn as sns\n",
        "\n",
        "titanic = sns.load_dataset('titanic')\n",
        "df = titanic.loc[:, ['age', 'fare']]\n",
        "\n",
        "if len(df) > 5:\n",
        "    print(\"All data points for fare and age:\")\n",
        "    print(df)\n",
        "else:\n",
        "    print(\"Insufficient data: Original data has 5 or fewer rows.\")\n",
        "\n",
        "print('\\n')"
      ],
      "metadata": {
        "colab": {
          "base_uri": "https://localhost:8080/"
        },
        "id": "fCibKkmZiZxE",
        "outputId": "cf2cdd6c-043c-403c-ab4a-c86173756022"
      },
      "execution_count": null,
      "outputs": [
        {
          "output_type": "stream",
          "name": "stdout",
          "text": [
            "All data points for fare and age:\n",
            "      age     fare\n",
            "0    22.0   7.2500\n",
            "1    38.0  71.2833\n",
            "2    26.0   7.9250\n",
            "3    35.0  53.1000\n",
            "4    35.0   8.0500\n",
            "..    ...      ...\n",
            "886  27.0  13.0000\n",
            "887  19.0  30.0000\n",
            "888   NaN  23.4500\n",
            "889  26.0  30.0000\n",
            "890  32.0   7.7500\n",
            "\n",
            "[891 rows x 2 columns]\n",
            "\n",
            "\n"
          ]
        }
      ]
    },
    {
      "cell_type": "code",
      "source": [
        "import pandas as pd\n",
        "import seaborn as sns\n",
        "\n",
        "titanic = sns.load_dataset('titanic')\n",
        "df = titanic.loc[:, ['age', 'fare']]\n",
        "\n",
        "# Check if the original data has more than 5 rows\n",
        "if len(df) > 5:\n",
        "    # If the condition is met, print all data points for fare and age\n",
        "    print(\"All data points for fare and age:\")\n",
        "    print(df)\n",
        "else:\n",
        "    # If the condition is not met, print a message indicating insufficient data\n",
        "    print(\"Insufficient data: Original data has 5 or fewer rows.\")\n",
        "\n",
        "print('\\n')\n",
        "\n"
      ],
      "metadata": {
        "id": "x_-5xeic2P-S",
        "outputId": "a6eb702f-1435-495f-c9f0-769b090b1d52",
        "colab": {
          "base_uri": "https://localhost:8080/"
        }
      },
      "execution_count": null,
      "outputs": [
        {
          "output_type": "stream",
          "name": "stdout",
          "text": [
            "All data points for fare and age:\n",
            "      age     fare\n",
            "0    22.0   7.2500\n",
            "1    38.0  71.2833\n",
            "2    26.0   7.9250\n",
            "3    35.0  53.1000\n",
            "4    35.0   8.0500\n",
            "..    ...      ...\n",
            "886  27.0  13.0000\n",
            "887  19.0  30.0000\n",
            "888   NaN  23.4500\n",
            "889  26.0  30.0000\n",
            "890  32.0   7.7500\n",
            "\n",
            "[891 rows x 2 columns]\n",
            "\n",
            "\n"
          ]
        }
      ]
    },
    {
      "cell_type": "markdown",
      "source": [
        "### ⬆️ Continued⬇️"
      ],
      "metadata": {
        "id": "XDMStldTIPgj"
      }
    },
    {
      "cell_type": "code",
      "source": [
        "# Check the type of the DataFrame\n",
        "print(\"Type of DataFrame:\", type(df))\n",
        "print('\\n')\n",
        "\n",
        "# Add 10 to each element in the DataFrame\n",
        "addition = df + 10\n",
        "print(\"DataFrame after adding 10 to each element:\")\n",
        "print(addition)\n",
        "print('\\n')\n",
        "\n",
        "# Check the type of the new DataFrame\n",
        "print(\"Type of new DataFrame:\", type(addition))"
      ],
      "metadata": {
        "colab": {
          "base_uri": "https://localhost:8080/"
        },
        "id": "dfdV8vj3IOCi",
        "outputId": "6f3955c7-7df4-4d1d-80c8-0d7c8a83fea9"
      },
      "execution_count": null,
      "outputs": [
        {
          "output_type": "stream",
          "name": "stdout",
          "text": [
            "Type of DataFrame: <class 'pandas.core.frame.DataFrame'>\n",
            "\n",
            "\n",
            "DataFrame after adding 10 to each element:\n",
            "      age     fare\n",
            "0    32.0  17.2500\n",
            "1    48.0  81.2833\n",
            "2    36.0  17.9250\n",
            "3    45.0  63.1000\n",
            "4    45.0  18.0500\n",
            "..    ...      ...\n",
            "886  37.0  23.0000\n",
            "887  29.0  40.0000\n",
            "888   NaN  33.4500\n",
            "889  36.0  40.0000\n",
            "890  42.0  17.7500\n",
            "\n",
            "[891 rows x 2 columns]\n",
            "\n",
            "\n",
            "Type of new DataFrame: <class 'pandas.core.frame.DataFrame'>\n"
          ]
        }
      ]
    },
    {
      "cell_type": "code",
      "source": [
        "import pandas as pd #The pd alias is used for the Pandas library, which is commonly used for data manipulation and analysis.\n",
        "import seaborn as sns\n",
        "\n",
        "titanic = sns.load_dataset('titanic') #The sns.load_dataset() function loads the Titanic dataset and returns a Pandas DataFrame.\n",
        "df = titanic.loc[:, ['age', 'fare']] #The .loc[] method is used to select specific columns ('age' and 'fare') from the DataFrame.\n",
        "\n",
        "print(df.head()) #The defaut number is set to 5.\n",
        "print('\\n')\n",
        "\n",
        "print(df.tail()) #The defaut number is set to 5.\n",
        "print('\\n')\n",
        "\n",
        "print(type(df))\n",
        "print('\\n')\n",
        "\n",
        "#More efficient way to check out the data size\n",
        "print(len(df))\n",
        "print('\\n')\n",
        "\n",
        "#Try to print 300 people's data. You will know it deos not show everything...\n",
        "print(df.head(300))"
      ],
      "metadata": {
        "id": "x75sAf7A4Qxj",
        "outputId": "287fa9ed-ab4a-4249-c410-f95c23a754ff",
        "colab": {
          "base_uri": "https://localhost:8080/"
        }
      },
      "execution_count": null,
      "outputs": [
        {
          "output_type": "stream",
          "name": "stdout",
          "text": [
            "    age     fare\n",
            "0  22.0   7.2500\n",
            "1  38.0  71.2833\n",
            "2  26.0   7.9250\n",
            "3  35.0  53.1000\n",
            "4  35.0   8.0500\n",
            "\n",
            "\n",
            "      age   fare\n",
            "886  27.0  13.00\n",
            "887  19.0  30.00\n",
            "888   NaN  23.45\n",
            "889  26.0  30.00\n",
            "890  32.0   7.75\n",
            "\n",
            "\n",
            "<class 'pandas.core.frame.DataFrame'>\n",
            "\n",
            "\n",
            "891\n",
            "\n",
            "\n",
            "      age      fare\n",
            "0    22.0    7.2500\n",
            "1    38.0   71.2833\n",
            "2    26.0    7.9250\n",
            "3    35.0   53.1000\n",
            "4    35.0    8.0500\n",
            "..    ...       ...\n",
            "295   NaN   27.7208\n",
            "296  23.5    7.2292\n",
            "297   2.0  151.5500\n",
            "298   NaN   30.5000\n",
            "299  50.0  247.5208\n",
            "\n",
            "[300 rows x 2 columns]\n"
          ]
        }
      ]
    },
    {
      "cell_type": "markdown",
      "source": [
        "## 7️⃣  💊 You will be able to check out all data points by saving the DataFrame of titanic data to a **xlxs** format of an **csv** format.\n",
        "- 📌 Saving the DataFrame to csv has an advantage, since you can immediately check out all data points without leaving colab. Just double click your csv file under your file directory on the colab.\n"
      ],
      "metadata": {
        "id": "iczLSY-c7CdW"
      }
    },
    {
      "cell_type": "code",
      "source": [
        "# Set a custom index to distinguish clearly. It only affects .xlxs format, not .csv format.\n",
        "df.index = ['row_' + str(i) for i in range(len(df))]\n",
        "\n",
        "# 🐹 Save the DataFrame of titanic data to an updated excel (.xlxs) format\n",
        "df.head(891).to_excel(\"titanic_age_fare_windex.xlsx\", index=True)\n",
        "df.head(891).to_excel(\"titanic_age_fare_woindex.xlsx\", index=False)\n",
        "\n",
        "#🐾 Alternatively, you can also use the following codelines without the head()function.\n",
        "df.to_excel(\"titanic1_age_fare_windex.xlsx\", index=True)\n",
        "df.to_excel(\"titanic1_age_fare_woindex.xlsx\", index=False)\n",
        "\n",
        "\n",
        "\n",
        "# 🐹 You will be able to check out all data points by saving the DataFrame of titanic data to a xlxs format of an csv format\n",
        "df.head(891).to_csv(\"titanic_age_fare_windex.csv\", index=True)\n",
        "df.head(891).to_csv(\"titanic_age_fare_woindex.csv\", index=False)\n",
        "\n",
        "#🐾 Alternatively, you can also use the following codelines without the head()function.\n",
        "df.to_csv(\"titanic_age_fare_windex.csv\", index=True)\n",
        "df.to_csv(\"titanic_age_fare_windex.csv\", index=False)"
      ],
      "metadata": {
        "id": "rEE7X_5y7EsS"
      },
      "execution_count": null,
      "outputs": []
    },
    {
      "cell_type": "markdown",
      "source": [
        "## 8️⃣ 🏀 ⚽ More on operations with dataframes.\n",
        "- e.g., DataFrame operators(+ - * /) DataFrame"
      ],
      "metadata": {
        "id": "uj7WQf6L76-F"
      }
    },
    {
      "cell_type": "code",
      "source": [
        "import pandas as pd\n",
        "import seaborn as sns\n",
        "\n",
        "titanic = sns.load_dataset('titanic')\n",
        "df = titanic.loc[:, ['age','fare']]\n",
        "print(df.tail())\n",
        "print('\\n')\n",
        "print(type(df))\n",
        "\n",
        "#데이터프레임에 숫자 10 더하기\n",
        "addition = df +10\n",
        "print(addition.tail())\n",
        "print('\\n')\n",
        "print(type(addition))\n",
        "print('\\n')\n",
        "\n",
        "#데이터프레임끼리 연산하기\n",
        "subtraction = addition - df\n",
        "print(subtraction.tail())\n",
        "print('\\n')\n",
        "print(type(subtraction))"
      ],
      "metadata": {
        "id": "vwcofpD4KouC",
        "outputId": "f837bcc9-b79b-4f97-fbbb-a38ec4293354",
        "colab": {
          "base_uri": "https://localhost:8080/"
        }
      },
      "execution_count": null,
      "outputs": [
        {
          "output_type": "stream",
          "name": "stdout",
          "text": [
            "      age   fare\n",
            "886  27.0  13.00\n",
            "887  19.0  30.00\n",
            "888   NaN  23.45\n",
            "889  26.0  30.00\n",
            "890  32.0   7.75\n",
            "\n",
            "\n",
            "<class 'pandas.core.frame.DataFrame'>\n",
            "      age   fare\n",
            "886  37.0  23.00\n",
            "887  29.0  40.00\n",
            "888   NaN  33.45\n",
            "889  36.0  40.00\n",
            "890  42.0  17.75\n",
            "\n",
            "\n",
            "<class 'pandas.core.frame.DataFrame'>\n",
            "\n",
            "\n",
            "      age  fare\n",
            "886  10.0  10.0\n",
            "887  10.0  10.0\n",
            "888   NaN  10.0\n",
            "889  10.0  10.0\n",
            "890  10.0  10.0\n",
            "\n",
            "\n",
            "<class 'pandas.core.frame.DataFrame'>\n"
          ]
        }
      ]
    },
    {
      "cell_type": "markdown",
      "source": [
        "## 9️⃣ 🌺 More data from Seaborn\n",
        "- <font color = 'red'> **iris**\n",
        "  - This dataset contains measurements of various features of iris flowers, including sepal length, sepal width, petal length, and petal width.\n",
        "  - It consists of 150 observations of iris flowers, with 50 observations for each of the three species: setosa, versicolor, and virginica.\n",
        "  - The dataset is commonly used for tasks such as classification and clustering.\n",
        "\n",
        "- <font color = 'red'> **tips**\n",
        "  - The tips dataset contains information about tips given by restaurant customers.\n",
        "  - It includes the total bill, the tip amount, the gender of the customer, whether they are smokers, the day of the week, and the time of day (lunch or dinner).\n",
        "  - This dataset is often used for analyzing tipping behavior and exploring relationships between tipping and other variables.\n",
        "\n",
        "- <font color = 'red'> **mpg**\n",
        "  - This dataset contains information about fuel economy (mpg for _miles per gallon_) for various cars.\n",
        "  - It includes features such as the number of cylinders, horsepower, weight, acceleration, model year, origin (American, European, or Japanese), and the name of the car.\n",
        "  - The dataset is commonly used for exploring factors affecting fuel efficiency and building predictive models for mpg.\n",
        "\n",
        "- <font color = 'red'> **flights**\n",
        "  - The flights dataset contains information about flights departing from airports in the United States in the year 2014.\n",
        "  - It includes features such as the date of the flight, the airline, the origin and destination airports, and the number of passengers.\n",
        "  - This dataset is often used for analyzing flight patterns, seasonal trends, and airline performance.\n",
        "\n",
        "- <font color = 'red'> **exercise**\n",
        "  - This dataset contains information about the performance of subjects in a fitness program.\n",
        "  - It includes features such as the subject's age, sex, weight, heart rate, and the type of exercise performed (either 'rest', 'walking', or 'running').\n",
        "  - The dataset is commonly used for studying the effects of exercise on various health metrics and for analyzing individual fitness progress over time."
      ],
      "metadata": {
        "id": "OLDh8tTGKbxm"
      }
    },
    {
      "cell_type": "code",
      "source": [
        "import seaborn as sns\n",
        "\n",
        "# Load the iris dataset\n",
        "iris = sns.load_dataset('iris')\n",
        "\n",
        "# Load the tips dataset\n",
        "tips = sns.load_dataset('tips')\n",
        "\n",
        "# Load the mpg dataset\n",
        "mpg = sns.load_dataset('mpg')\n",
        "\n",
        "# Load the flights dataset\n",
        "flights = sns.load_dataset('flights')\n",
        "\n",
        "# Load the exercise dataset\n",
        "exercise = sns.load_dataset('exercise')"
      ],
      "metadata": {
        "id": "uGYcUE_m8zKo"
      },
      "execution_count": null,
      "outputs": []
    },
    {
      "cell_type": "markdown",
      "source": [
        "## 🔟 🐝 You connect Zoom first and do your exercise with the flights dataframe of Seaborn and try to generate a _csv_ file."
      ],
      "metadata": {
        "id": "kaoXnmxy-oOE"
      }
    },
    {
      "cell_type": "code",
      "source": [
        "#@markdown ### 🍄 Instructor's activity with the flights data frame of Seaborn\n",
        "\n",
        "import pandas as pd\n",
        "import seaborn as sns\n",
        "flights = sns.load_dataset('flights')\n",
        "df = pd.DataFrame(flights)\n",
        "print(df)\n",
        "print('\\n')\n",
        "print(len(df))\n",
        "print('\\n')\n",
        "\n",
        "df.to_excel(\"flights1_year_month_passengers_windex.xlsx\", index=True)\n",
        "df.to_csv(\"flights1_year_month_passengers_windex.csv\", index=True)\n",
        "\n"
      ],
      "metadata": {
        "cellView": "form",
        "id": "sxFt1Sll86fH",
        "outputId": "6f7efebb-4669-42a6-eb80-dcf747571342",
        "colab": {
          "base_uri": "https://localhost:8080/"
        }
      },
      "execution_count": null,
      "outputs": [
        {
          "output_type": "stream",
          "name": "stdout",
          "text": [
            "     year month  passengers\n",
            "0    1949   Jan         112\n",
            "1    1949   Feb         118\n",
            "2    1949   Mar         132\n",
            "3    1949   Apr         129\n",
            "4    1949   May         121\n",
            "..    ...   ...         ...\n",
            "139  1960   Aug         606\n",
            "140  1960   Sep         508\n",
            "141  1960   Oct         461\n",
            "142  1960   Nov         390\n",
            "143  1960   Dec         432\n",
            "\n",
            "[144 rows x 3 columns]\n",
            "\n",
            "\n",
            "144\n",
            "\n",
            "\n"
          ]
        }
      ]
    },
    {
      "cell_type": "markdown",
      "source": [
        "👀 Some notes wrt codelines I used above.\n",
        "\n",
        "1. I use the len() function to get the size info.\n",
        "2. Instead of add the head() method after object df, I only used object df to generate a csv file with .to_csv() method."
      ],
      "metadata": {
        "id": "7uyJFLJOIOTH"
      }
    }
  ]
}